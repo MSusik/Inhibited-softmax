{
 "cells": [
  {
   "cell_type": "code",
   "execution_count": null,
   "metadata": {
    "scrolled": true
   },
   "outputs": [],
   "source": [
    "from models_code.utilities import create_model\n",
    "from models_code.utilities import dump_results\n",
    "\n",
    "from models_code.experiments import correlation_test_error_uncertainty\n",
    "from models_code.experiments import correlation_test_error_uncertainty_variational\n",
    "from models_code.experiments import load_notmnist\n",
    "from models_code.experiments import load_omniglot\n",
    "from models_code.experiments import load_cifar_bw\n",
    "from models_code.experiments import random_generator\n",
    "\n",
    "from models_code.experiments import not_mnist_predictions\n",
    "from models_code.experiments import not_mnist_prediction_variational\n",
    "from models_code.experiments import non_distribution\n",
    "from models_code.experiments import test_eval\n",
    "from models_code.experiments import test_eval_variational\n",
    "from models_code.experiments import softmax\n",
    "from models_code.experiments import softmax2d\n",
    "\n",
    "from models_code.mnist import perform_training\n",
    "from models_code.mnist import load_data\n",
    "\n",
    "from models_code.mnist import Mnist\n",
    "from models_code.mnist import ISMnist\n",
    "from models_code.mnist import MCMnist\n",
    "from models_code.mnist import MonteCarloDropout\n",
    "\n",
    "from models_code.bayesbybackprop import BBPMnist\n",
    "from models_code.bayesbybackprop import train_bbp, test_bbp\n",
    "\n",
    "from models_code.utilities import load_model\n",
    "\n",
    "from utilities.metric import predictive_entropy\n",
    "from utilities.metric import entropy\n",
    "\n",
    "import torch\n",
    "\n",
    "import numpy as np\n",
    "\n",
    "from sklearn.metrics import accuracy_score\n",
    "from sklearn.metrics import log_loss"
   ]
  },
  {
   "cell_type": "code",
   "execution_count": null,
   "metadata": {
    "scrolled": true
   },
   "outputs": [],
   "source": [
    "def set_same_seed():\n",
    "    torch.manual_seed(9)\n",
    "    torch.cuda.manual_seed(9)"
   ]
  },
  {
   "cell_type": "code",
   "execution_count": null,
   "metadata": {
    "scrolled": true
   },
   "outputs": [],
   "source": [
    "batch_size = 128\n",
    "log_interval = 100\n",
    "epochs = 12"
   ]
  },
  {
   "cell_type": "markdown",
   "metadata": {},
   "source": [
    "# Default model"
   ]
  },
  {
   "cell_type": "code",
   "execution_count": null,
   "metadata": {
    "scrolled": true
   },
   "outputs": [],
   "source": [
    "set_same_seed()\n",
    "train_loader, test_loader = load_data(batch_size)"
   ]
  },
  {
   "cell_type": "code",
   "execution_count": null,
   "metadata": {
    "scrolled": true
   },
   "outputs": [],
   "source": [
    "# standard, optimizer, cross_entropy  = create_model(Mnist)\n",
    "\n",
    "# perform_training(\n",
    "#     epochs,\n",
    "#     standard,\n",
    "#     train_loader,\n",
    "#     test_loader,\n",
    "#     optimizer,\n",
    "#     cross_entropy,\n",
    "#     log_interval,\n",
    "#     './models/mnist_lenet/standard2.torch',\n",
    "#     60000 // batch_size + 1\n",
    "# )\n",
    "\n",
    "standard = load_model(Mnist, './models/mnist_lenet/standard.torch')"
   ]
  },
  {
   "cell_type": "markdown",
   "metadata": {},
   "source": [
    "### First experiments - test accuracy"
   ]
  },
  {
   "cell_type": "code",
   "execution_count": null,
   "metadata": {
    "scrolled": true
   },
   "outputs": [],
   "source": [
    "test_preds, test_labels, test_probs = test_eval(standard, test_loader)"
   ]
  },
  {
   "cell_type": "code",
   "execution_count": null,
   "metadata": {
    "scrolled": true
   },
   "outputs": [],
   "source": [
    "accuracy_score(test_labels, test_preds)"
   ]
  },
  {
   "cell_type": "code",
   "execution_count": null,
   "metadata": {
    "scrolled": true
   },
   "outputs": [],
   "source": [
    "log_loss(test_labels, softmax(test_probs))"
   ]
  },
  {
   "cell_type": "markdown",
   "metadata": {},
   "source": [
    "### Second experiment  - test error vs uncertainty\n"
   ]
  },
  {
   "cell_type": "code",
   "execution_count": null,
   "metadata": {
    "scrolled": true
   },
   "outputs": [],
   "source": [
    "roc, ac, fpr, tpr, pr, re = correlation_test_error_uncertainty(\n",
    "    lambda x: entropy(x),\n",
    "    softmax2d(test_probs),\n",
    "    test_labels\n",
    ")\n",
    "\n",
    "print(roc)\n",
    "print(ac)\n",
    "\n",
    "roc, ac, fpr, tpr, pr, re = correlation_test_error_uncertainty(\n",
    "    lambda x: -np.max(x, axis=1),\n",
    "    softmax2d(test_probs),\n",
    "    test_labels\n",
    ")"
   ]
  },
  {
   "cell_type": "code",
   "execution_count": null,
   "metadata": {
    "scrolled": true
   },
   "outputs": [],
   "source": [
    "roc"
   ]
  },
  {
   "cell_type": "code",
   "execution_count": null,
   "metadata": {
    "scrolled": true
   },
   "outputs": [],
   "source": [
    "ac"
   ]
  },
  {
   "cell_type": "code",
   "execution_count": null,
   "metadata": {
    "scrolled": true
   },
   "outputs": [],
   "source": [
    "dump_results(fpr, tpr, pr, re, './results/mnist/standard.pickle')"
   ]
  },
  {
   "cell_type": "markdown",
   "metadata": {},
   "source": [
    "### Third experiment - NOTMNIST vs MNIST"
   ]
  },
  {
   "cell_type": "code",
   "execution_count": null,
   "metadata": {
    "scrolled": true
   },
   "outputs": [],
   "source": [
    "not_mnist_loader = load_notmnist(batch_size)"
   ]
  },
  {
   "cell_type": "code",
   "execution_count": null,
   "metadata": {
    "scrolled": true
   },
   "outputs": [],
   "source": [
    "notmnist_truth, notmnist_probs, notmnist_images = not_mnist_predictions([standard], not_mnist_loader)"
   ]
  },
  {
   "cell_type": "code",
   "execution_count": null,
   "metadata": {
    "scrolled": true
   },
   "outputs": [],
   "source": [
    "roc, ac, fpr, tpr, pr, re = non_distribution(\n",
    "    test_probs,\n",
    "    entropy(softmax2d(test_probs)).reshape(10000,1),\n",
    "    entropy(notmnist_probs[0]).reshape(18724,1),\n",
    "    28724,\n",
    "    10000\n",
    ")\n",
    "\n",
    "\n",
    "# roc, ac, fpr, tpr, pr, re = non_distribution(\n",
    "#     test_probs,\n",
    "#     -np.max(softmax2d(test_probs), axis=1).reshape(10000,1),\n",
    "#     -np.max(notmnist_probs[0], axis=1).reshape(18724,1),\n",
    "#     28724,\n",
    "#     10000\n",
    "# )"
   ]
  },
  {
   "cell_type": "code",
   "execution_count": null,
   "metadata": {
    "scrolled": true
   },
   "outputs": [],
   "source": [
    "roc"
   ]
  },
  {
   "cell_type": "code",
   "execution_count": null,
   "metadata": {
    "scrolled": true
   },
   "outputs": [],
   "source": [
    "ac"
   ]
  },
  {
   "cell_type": "code",
   "execution_count": null,
   "metadata": {
    "scrolled": true
   },
   "outputs": [],
   "source": [
    "dump_results(fpr, tpr, pr, re, './results/notmnist/standard.pickle')"
   ]
  },
  {
   "cell_type": "markdown",
   "metadata": {},
   "source": [
    "### Omniglot"
   ]
  },
  {
   "cell_type": "code",
   "execution_count": null,
   "metadata": {
    "scrolled": true
   },
   "outputs": [],
   "source": [
    "not_mnist_loader = load_omniglot(batch_size)"
   ]
  },
  {
   "cell_type": "code",
   "execution_count": null,
   "metadata": {
    "scrolled": true
   },
   "outputs": [],
   "source": [
    "notmnist_truth, notmnist_probs, notmnist_images = not_mnist_predictions([standard], not_mnist_loader)"
   ]
  },
  {
   "cell_type": "code",
   "execution_count": null,
   "metadata": {
    "scrolled": true
   },
   "outputs": [],
   "source": [
    "roc, ac, fpr, tpr, pr, re = non_distribution(\n",
    "    test_probs,\n",
    "    entropy(softmax2d(test_probs)).reshape(10000,1),\n",
    "    entropy(notmnist_probs[0]).reshape(32460,1),\n",
    "    42460,\n",
    "    10000\n",
    ")\n",
    "\n",
    "\n",
    "\n",
    "# roc, ac, fpr, tpr, pr, re = non_distribution(\n",
    "#     test_probs,\n",
    "#     -np.max(softmax2d(test_probs), axis=1).reshape(10000,1),\n",
    "#     -np.max(notmnist_probs[0], axis=1).reshape(32460,1),\n",
    "#     42460,\n",
    "#     10000\n",
    "# )"
   ]
  },
  {
   "cell_type": "code",
   "execution_count": null,
   "metadata": {
    "scrolled": true
   },
   "outputs": [],
   "source": [
    "roc"
   ]
  },
  {
   "cell_type": "code",
   "execution_count": null,
   "metadata": {
    "scrolled": true
   },
   "outputs": [],
   "source": [
    "ac"
   ]
  },
  {
   "cell_type": "code",
   "execution_count": null,
   "metadata": {
    "scrolled": true
   },
   "outputs": [],
   "source": [
    "dump_results(fpr, tpr, pr, re, './results/omniglot/standard.pickle')"
   ]
  },
  {
   "cell_type": "markdown",
   "metadata": {},
   "source": [
    "### Cifar-bw"
   ]
  },
  {
   "cell_type": "code",
   "execution_count": null,
   "metadata": {
    "scrolled": true
   },
   "outputs": [],
   "source": [
    "not_mnist_loader = load_cifar_bw(batch_size)"
   ]
  },
  {
   "cell_type": "code",
   "execution_count": null,
   "metadata": {
    "scrolled": true
   },
   "outputs": [],
   "source": [
    "notmnist_truth, notmnist_probs, notmnist_images = not_mnist_predictions([standard], not_mnist_loader)\n",
    "\n",
    "# roc, ac, fpr, tpr, pr, re = non_distribution(\n",
    "#     test_probs,\n",
    "#     entropy(softmax2d(test_probs)).reshape(10000,1),\n",
    "#     entropy(notmnist_probs[0]).reshape(50000,1),\n",
    "#     60000,\n",
    "#     10000\n",
    "# )\n",
    "\n",
    "\n",
    "\n",
    "roc, ac, fpr, tpr, pr, re = non_distribution(\n",
    "    test_probs,\n",
    "    -np.max(softmax2d(test_probs), axis=1).reshape(10000,1),\n",
    "    -np.max(notmnist_probs[0], axis=1).reshape(50000,1),\n",
    "    60000,\n",
    "    10000\n",
    ")"
   ]
  },
  {
   "cell_type": "code",
   "execution_count": null,
   "metadata": {
    "scrolled": true
   },
   "outputs": [],
   "source": [
    "roc"
   ]
  },
  {
   "cell_type": "code",
   "execution_count": null,
   "metadata": {
    "scrolled": true
   },
   "outputs": [],
   "source": [
    "ac"
   ]
  },
  {
   "cell_type": "markdown",
   "metadata": {},
   "source": [
    "# Monte Carlo Dropout"
   ]
  },
  {
   "cell_type": "code",
   "execution_count": null,
   "metadata": {
    "scrolled": true
   },
   "outputs": [],
   "source": [
    "set_same_seed()\n",
    "train_loader, test_loader = load_data(batch_size)"
   ]
  },
  {
   "cell_type": "code",
   "execution_count": null,
   "metadata": {
    "scrolled": true
   },
   "outputs": [],
   "source": [
    "# mc, optimizer, cross_entropy  = create_model(MCMnist)\n",
    "\n",
    "# perform_training(\n",
    "#     # Has to be trained longer due to dropout\n",
    "#     epochs * 2,\n",
    "#     mc,\n",
    "#     train_loader,\n",
    "#     test_loader,\n",
    "#     optimizer,\n",
    "#     cross_entropy,\n",
    "#     log_interval,\n",
    "#     './models/mnist_lenet/mc.torch',\n",
    "#     60000 // batch_size + 1\n",
    "# )\n",
    "\n",
    "mc = load_model(MCMnist, './models/mnist_lenet/mc.torch')"
   ]
  },
  {
   "cell_type": "code",
   "execution_count": null,
   "metadata": {
    "scrolled": true
   },
   "outputs": [],
   "source": [
    "mc.dropout = MonteCarloDropout(0.25)"
   ]
  },
  {
   "cell_type": "code",
   "execution_count": null,
   "metadata": {
    "scrolled": true
   },
   "outputs": [],
   "source": [
    "test_labels, test_preds = test_eval_variational(mc, test_loader, 50)"
   ]
  },
  {
   "cell_type": "code",
   "execution_count": null,
   "metadata": {
    "scrolled": true
   },
   "outputs": [],
   "source": [
    "accuracy_score(test_labels, np.argmax(np.mean(test_preds, axis=0), axis=1))"
   ]
  },
  {
   "cell_type": "code",
   "execution_count": null,
   "metadata": {
    "scrolled": true
   },
   "outputs": [],
   "source": [
    "log_loss(test_labels, np.mean(test_preds, axis=0))"
   ]
  },
  {
   "cell_type": "markdown",
   "metadata": {},
   "source": [
    "### Second experiment"
   ]
  },
  {
   "cell_type": "code",
   "execution_count": null,
   "metadata": {
    "scrolled": true
   },
   "outputs": [],
   "source": [
    "roc, ac, fpr, tpr, pr, re = correlation_test_error_uncertainty_variational(\n",
    "    predictive_entropy,\n",
    "    test_preds,\n",
    "    test_labels\n",
    ")"
   ]
  },
  {
   "cell_type": "code",
   "execution_count": null,
   "metadata": {
    "scrolled": true
   },
   "outputs": [],
   "source": [
    "roc"
   ]
  },
  {
   "cell_type": "code",
   "execution_count": null,
   "metadata": {
    "scrolled": true
   },
   "outputs": [],
   "source": [
    "ac"
   ]
  },
  {
   "cell_type": "code",
   "execution_count": null,
   "metadata": {
    "scrolled": true
   },
   "outputs": [],
   "source": [
    "dump_results(fpr, tpr, pr, re, './results/mnist/mc.pickle')"
   ]
  },
  {
   "cell_type": "markdown",
   "metadata": {},
   "source": [
    "### Third experiment\n"
   ]
  },
  {
   "cell_type": "code",
   "execution_count": null,
   "metadata": {
    "scrolled": true
   },
   "outputs": [],
   "source": [
    "not_mnist_loader = load_notmnist(batch_size)"
   ]
  },
  {
   "cell_type": "code",
   "execution_count": null,
   "metadata": {
    "scrolled": true
   },
   "outputs": [],
   "source": [
    "notmnist_labels, notmnist_probs, notmnist_images = not_mnist_prediction_variational(mc, not_mnist_loader, 50)"
   ]
  },
  {
   "cell_type": "code",
   "execution_count": null,
   "metadata": {
    "scrolled": true
   },
   "outputs": [],
   "source": [
    "roc, ac, fpr, tpr, pr, re = non_distribution(\n",
    "    test_preds,\n",
    "    predictive_entropy(test_preds).reshape(10000,1),\n",
    "    predictive_entropy(notmnist_probs).reshape(18724,1),\n",
    "    28724,\n",
    "    10000\n",
    ")"
   ]
  },
  {
   "cell_type": "code",
   "execution_count": null,
   "metadata": {
    "scrolled": true
   },
   "outputs": [],
   "source": [
    "roc"
   ]
  },
  {
   "cell_type": "code",
   "execution_count": null,
   "metadata": {
    "scrolled": true
   },
   "outputs": [],
   "source": [
    "ac"
   ]
  },
  {
   "cell_type": "code",
   "execution_count": null,
   "metadata": {
    "scrolled": true
   },
   "outputs": [],
   "source": [
    "dump_results(fpr, tpr, pr, re, './results/notmnist/mc.pickle')"
   ]
  },
  {
   "cell_type": "markdown",
   "metadata": {},
   "source": [
    "### Omniglot"
   ]
  },
  {
   "cell_type": "code",
   "execution_count": null,
   "metadata": {
    "scrolled": true
   },
   "outputs": [],
   "source": [
    "not_mnist_loader = load_omniglot(batch_size)"
   ]
  },
  {
   "cell_type": "code",
   "execution_count": null,
   "metadata": {
    "scrolled": true
   },
   "outputs": [],
   "source": [
    "notmnist_labels, notmnist_probs, notmnist_images = not_mnist_prediction_variational(mc, not_mnist_loader, 50)"
   ]
  },
  {
   "cell_type": "code",
   "execution_count": null,
   "metadata": {
    "scrolled": true
   },
   "outputs": [],
   "source": [
    "roc, ac, fpr, tpr, pr, re = non_distribution(\n",
    "    test_preds,\n",
    "    predictive_entropy(test_preds).reshape(10000,1),\n",
    "    predictive_entropy(notmnist_probs).reshape(32460,1),\n",
    "    42460,\n",
    "    10000\n",
    ")"
   ]
  },
  {
   "cell_type": "code",
   "execution_count": null,
   "metadata": {
    "scrolled": true
   },
   "outputs": [],
   "source": [
    "roc"
   ]
  },
  {
   "cell_type": "code",
   "execution_count": null,
   "metadata": {
    "scrolled": true
   },
   "outputs": [],
   "source": [
    "ac"
   ]
  },
  {
   "cell_type": "code",
   "execution_count": null,
   "metadata": {
    "scrolled": true
   },
   "outputs": [],
   "source": [
    "dump_results(fpr, tpr, pr, re, './results/omniglot/mc.pickle')"
   ]
  },
  {
   "cell_type": "markdown",
   "metadata": {},
   "source": [
    "### Cifar-bw"
   ]
  },
  {
   "cell_type": "code",
   "execution_count": null,
   "metadata": {
    "scrolled": true
   },
   "outputs": [],
   "source": [
    "not_mnist_loader = load_cifar_bw(batch_size)"
   ]
  },
  {
   "cell_type": "code",
   "execution_count": null,
   "metadata": {
    "scrolled": true
   },
   "outputs": [],
   "source": [
    "notmnist_labels, notmnist_probs, notmnist_images = not_mnist_prediction_variational(mc, not_mnist_loader, 50)"
   ]
  },
  {
   "cell_type": "code",
   "execution_count": null,
   "metadata": {
    "scrolled": true
   },
   "outputs": [],
   "source": [
    "roc, ac, fpr, tpr, pr, re = non_distribution(\n",
    "    test_preds,\n",
    "    predictive_entropy(test_preds).reshape(10000,1),\n",
    "    predictive_entropy(notmnist_probs).reshape(50000,1),\n",
    "    60000,\n",
    "    10000\n",
    ")"
   ]
  },
  {
   "cell_type": "code",
   "execution_count": null,
   "metadata": {
    "scrolled": true
   },
   "outputs": [],
   "source": [
    "roc"
   ]
  },
  {
   "cell_type": "code",
   "execution_count": null,
   "metadata": {
    "scrolled": true
   },
   "outputs": [],
   "source": [
    "ac"
   ]
  },
  {
   "cell_type": "markdown",
   "metadata": {},
   "source": [
    "# Bayes by Backprop"
   ]
  },
  {
   "cell_type": "code",
   "execution_count": null,
   "metadata": {
    "scrolled": true
   },
   "outputs": [],
   "source": [
    "set_same_seed()\n",
    "train_loader, test_loader = load_data(batch_size)"
   ]
  },
  {
   "cell_type": "code",
   "execution_count": null,
   "metadata": {
    "scrolled": true
   },
   "outputs": [],
   "source": [
    "bbp, optimizer, cross_entropy  = create_model(BBPMnist)\n",
    "\n",
    "\n",
    "# for epoch in range(1, 2 * epochs + 1):\n",
    "#     train_bbp(bbp, optimizer, train_loader, cross_entropy, batch_size, log_interval, 60000 // batch_size + 1, epoch)\n",
    "#     test_bbp(bbp, test_loader, cross_entropy, batch_size, epoch)\n"
   ]
  },
  {
   "cell_type": "code",
   "execution_count": null,
   "metadata": {
    "scrolled": true
   },
   "outputs": [],
   "source": [
    "\n",
    "# torch.save(bbp.state_dict(), './models/mnist_lenet/bbp.torch')\n",
    "\n",
    "bbp = load_model(BBPMnist, './models/mnist_lenet/bbp.torch')"
   ]
  },
  {
   "cell_type": "code",
   "execution_count": null,
   "metadata": {
    "scrolled": true
   },
   "outputs": [],
   "source": [
    "test_labels, test_preds = test_eval_variational(bbp, test_loader, 10)"
   ]
  },
  {
   "cell_type": "code",
   "execution_count": null,
   "metadata": {
    "scrolled": true
   },
   "outputs": [],
   "source": [
    "accuracy_score(test_labels, np.argmax(np.mean(test_preds, axis=0), axis=1))"
   ]
  },
  {
   "cell_type": "code",
   "execution_count": null,
   "metadata": {
    "scrolled": true
   },
   "outputs": [],
   "source": [
    "log_loss(test_labels, np.mean(test_preds, axis=0))"
   ]
  },
  {
   "cell_type": "markdown",
   "metadata": {},
   "source": [
    "### Second experiment"
   ]
  },
  {
   "cell_type": "code",
   "execution_count": null,
   "metadata": {
    "scrolled": true
   },
   "outputs": [],
   "source": [
    "roc, ac, fpr, tpr, pr, re = correlation_test_error_uncertainty_variational(\n",
    "    predictive_entropy,\n",
    "    test_preds,\n",
    "    test_labels\n",
    ")"
   ]
  },
  {
   "cell_type": "code",
   "execution_count": null,
   "metadata": {
    "scrolled": true
   },
   "outputs": [],
   "source": [
    "roc"
   ]
  },
  {
   "cell_type": "code",
   "execution_count": null,
   "metadata": {
    "scrolled": true
   },
   "outputs": [],
   "source": [
    "ac"
   ]
  },
  {
   "cell_type": "code",
   "execution_count": null,
   "metadata": {
    "scrolled": true
   },
   "outputs": [],
   "source": [
    "dump_results(fpr, tpr, pr, re, './results/mnist/bbp.pickle')"
   ]
  },
  {
   "cell_type": "markdown",
   "metadata": {},
   "source": [
    "### Third experiment"
   ]
  },
  {
   "cell_type": "code",
   "execution_count": null,
   "metadata": {
    "scrolled": true
   },
   "outputs": [],
   "source": [
    "not_mnist_loader = load_notmnist(batch_size)"
   ]
  },
  {
   "cell_type": "code",
   "execution_count": null,
   "metadata": {
    "scrolled": true
   },
   "outputs": [],
   "source": [
    "notmnist_labels, notmnist_probs, notmnist_images = not_mnist_prediction_variational(bbp, not_mnist_loader, 10)"
   ]
  },
  {
   "cell_type": "code",
   "execution_count": null,
   "metadata": {
    "scrolled": true
   },
   "outputs": [],
   "source": [
    "roc, ac, fpr, tpr, pr, re = non_distribution(\n",
    "    test_preds,\n",
    "    predictive_entropy(test_preds).reshape(10000,1),\n",
    "    predictive_entropy(notmnist_probs).reshape(18724,1),\n",
    "    28724,\n",
    "    10000\n",
    ")"
   ]
  },
  {
   "cell_type": "code",
   "execution_count": null,
   "metadata": {
    "scrolled": true
   },
   "outputs": [],
   "source": [
    "roc"
   ]
  },
  {
   "cell_type": "code",
   "execution_count": null,
   "metadata": {
    "scrolled": true
   },
   "outputs": [],
   "source": [
    "ac"
   ]
  },
  {
   "cell_type": "code",
   "execution_count": null,
   "metadata": {
    "scrolled": true
   },
   "outputs": [],
   "source": [
    "dump_results(fpr, tpr, pr, re, './results/notmnist/bp.pickle')"
   ]
  },
  {
   "cell_type": "markdown",
   "metadata": {},
   "source": [
    "### Omniglot"
   ]
  },
  {
   "cell_type": "code",
   "execution_count": null,
   "metadata": {
    "scrolled": true
   },
   "outputs": [],
   "source": [
    "not_mnist_loader = load_omniglot(batch_size)"
   ]
  },
  {
   "cell_type": "code",
   "execution_count": null,
   "metadata": {
    "scrolled": true
   },
   "outputs": [],
   "source": [
    "notmnist_labels, notmnist_probs, notmnist_images = not_mnist_prediction_variational(bbp, not_mnist_loader, 10)"
   ]
  },
  {
   "cell_type": "code",
   "execution_count": null,
   "metadata": {
    "scrolled": true
   },
   "outputs": [],
   "source": [
    "roc, ac, fpr, tpr, pr, re = non_distribution(\n",
    "    test_preds,\n",
    "    predictive_entropy(test_preds).reshape(10000,1),\n",
    "    predictive_entropy(notmnist_probs).reshape(32460,1),\n",
    "    42460,\n",
    "    10000\n",
    ")"
   ]
  },
  {
   "cell_type": "code",
   "execution_count": null,
   "metadata": {
    "scrolled": true
   },
   "outputs": [],
   "source": [
    "roc"
   ]
  },
  {
   "cell_type": "code",
   "execution_count": null,
   "metadata": {
    "scrolled": true
   },
   "outputs": [],
   "source": [
    "ac"
   ]
  },
  {
   "cell_type": "code",
   "execution_count": null,
   "metadata": {
    "scrolled": true
   },
   "outputs": [],
   "source": [
    "dump_results(fpr, tpr, pr, re, './results/omniglot/bp.pickle')"
   ]
  },
  {
   "cell_type": "markdown",
   "metadata": {},
   "source": [
    "### Cifar-bw"
   ]
  },
  {
   "cell_type": "code",
   "execution_count": null,
   "metadata": {
    "scrolled": true
   },
   "outputs": [],
   "source": [
    "not_mnist_loader = load_cifar_bw(batch_size)"
   ]
  },
  {
   "cell_type": "code",
   "execution_count": null,
   "metadata": {
    "scrolled": true
   },
   "outputs": [],
   "source": [
    "notmnist_labels, notmnist_probs, notmnist_images = not_mnist_prediction_variational(mc, not_mnist_loader, 10)"
   ]
  },
  {
   "cell_type": "code",
   "execution_count": null,
   "metadata": {
    "scrolled": true
   },
   "outputs": [],
   "source": [
    "roc, ac, fpr, tpr, pr, re = non_distribution(\n",
    "    test_preds,\n",
    "    predictive_entropy(test_preds).reshape(10000,1),\n",
    "    predictive_entropy(notmnist_probs).reshape(50000,1),\n",
    "    60000,\n",
    "    10000\n",
    ")"
   ]
  },
  {
   "cell_type": "code",
   "execution_count": null,
   "metadata": {
    "scrolled": true
   },
   "outputs": [],
   "source": [
    "roc"
   ]
  },
  {
   "cell_type": "code",
   "execution_count": null,
   "metadata": {
    "scrolled": true
   },
   "outputs": [],
   "source": [
    "ac"
   ]
  },
  {
   "cell_type": "markdown",
   "metadata": {},
   "source": [
    "# Inhibited softmax"
   ]
  },
  {
   "cell_type": "code",
   "execution_count": null,
   "metadata": {
    "scrolled": true
   },
   "outputs": [],
   "source": [
    "set_same_seed()\n",
    "train_loader, test_loader = load_data(batch_size)"
   ]
  },
  {
   "cell_type": "code",
   "execution_count": null,
   "metadata": {
    "scrolled": true
   },
   "outputs": [],
   "source": [
    "is_, optimizer, cross_entropy  = create_model(ISMnist)\n",
    "\n",
    "\n",
    "def is_loss(model):\n",
    "    \n",
    "    return (\n",
    "        lambda pred,y: cross_entropy(pred,y)\n",
    "        + 0.01 * (model.dense3.weight.data ** 2).sum()\n",
    "        + 0.000001 * pred.sum()\n",
    "    )\n",
    "\n",
    "perform_training(\n",
    "    epochs,\n",
    "    is_,\n",
    "    train_loader,\n",
    "    test_loader,\n",
    "    optimizer,\n",
    "    is_loss(is_),\n",
    "    log_interval,\n",
    "    './models/mnist_lenet/is.torch',\n",
    "    60000 // batch_size + 1\n",
    ")\n",
    "\n",
    "# is_ = load_model(ISMnist, './models/mnist_lenet/is.torch')"
   ]
  },
  {
   "cell_type": "code",
   "execution_count": null,
   "metadata": {
    "scrolled": true
   },
   "outputs": [],
   "source": [
    "test_preds, test_labels, test_probs = test_eval(is_, test_loader)"
   ]
  },
  {
   "cell_type": "code",
   "execution_count": null,
   "metadata": {
    "scrolled": true
   },
   "outputs": [],
   "source": [
    "accuracy_score(test_labels, test_preds)"
   ]
  },
  {
   "cell_type": "code",
   "execution_count": null,
   "metadata": {
    "scrolled": true
   },
   "outputs": [],
   "source": [
    "log_loss(test_labels, softmax2d(test_probs[:,:10]))"
   ]
  },
  {
   "cell_type": "markdown",
   "metadata": {},
   "source": [
    "### Second experiment"
   ]
  },
  {
   "cell_type": "code",
   "execution_count": null,
   "metadata": {
    "scrolled": true
   },
   "outputs": [],
   "source": [
    "roc, ac, fpr, tpr, pr, re = correlation_test_error_uncertainty(\n",
    "    lambda x: softmax2d(x)[:,10],\n",
    "    test_probs,\n",
    "    test_labels\n",
    ")\n"
   ]
  },
  {
   "cell_type": "code",
   "execution_count": null,
   "metadata": {
    "scrolled": true
   },
   "outputs": [],
   "source": [
    "roc"
   ]
  },
  {
   "cell_type": "code",
   "execution_count": null,
   "metadata": {
    "scrolled": true
   },
   "outputs": [],
   "source": [
    "ac"
   ]
  },
  {
   "cell_type": "code",
   "execution_count": null,
   "metadata": {
    "scrolled": true
   },
   "outputs": [],
   "source": [
    "dump_results(fpr, tpr, pr, re, './results/mnist/is.pickle')"
   ]
  },
  {
   "cell_type": "markdown",
   "metadata": {},
   "source": [
    "### Third experiment"
   ]
  },
  {
   "cell_type": "code",
   "execution_count": null,
   "metadata": {
    "scrolled": true
   },
   "outputs": [],
   "source": [
    "not_mnist_loader = load_notmnist(batch_size)"
   ]
  },
  {
   "cell_type": "code",
   "execution_count": null,
   "metadata": {
    "scrolled": true
   },
   "outputs": [],
   "source": [
    "notmnist_truth, notmnist_probs, notmnist_images = not_mnist_predictions([is_], not_mnist_loader, softmaxed=False)"
   ]
  },
  {
   "cell_type": "code",
   "execution_count": null,
   "metadata": {
    "scrolled": true
   },
   "outputs": [],
   "source": [
    "roc, ac, fpr, tpr, pr, re = non_distribution(\n",
    "    test_probs,\n",
    "    softmax2d(test_probs)[:,10].reshape(10000,1),\n",
    "    softmax2d(notmnist_probs[0])[:,10].reshape(18724,1),\n",
    "    28724,\n",
    "    10000\n",
    ")\n"
   ]
  },
  {
   "cell_type": "code",
   "execution_count": null,
   "metadata": {
    "scrolled": true
   },
   "outputs": [],
   "source": [
    "roc"
   ]
  },
  {
   "cell_type": "code",
   "execution_count": null,
   "metadata": {
    "scrolled": true
   },
   "outputs": [],
   "source": [
    "ac"
   ]
  },
  {
   "cell_type": "code",
   "execution_count": null,
   "metadata": {
    "scrolled": true
   },
   "outputs": [],
   "source": [
    "dump_results(fpr, tpr, pr, re, './results/notmnist/is.pickle')"
   ]
  },
  {
   "cell_type": "markdown",
   "metadata": {},
   "source": [
    "### Omniglot"
   ]
  },
  {
   "cell_type": "code",
   "execution_count": null,
   "metadata": {
    "scrolled": true
   },
   "outputs": [],
   "source": [
    "not_mnist_loader = load_omniglot(batch_size)"
   ]
  },
  {
   "cell_type": "code",
   "execution_count": null,
   "metadata": {
    "scrolled": true
   },
   "outputs": [],
   "source": [
    "notmnist_truth, notmnist_probs, notmnist_images = not_mnist_predictions([is_], not_mnist_loader, softmaxed=False)"
   ]
  },
  {
   "cell_type": "code",
   "execution_count": null,
   "metadata": {
    "scrolled": true
   },
   "outputs": [],
   "source": [
    "roc, ac, fpr, tpr, pr, re = non_distribution(\n",
    "    test_probs,\n",
    "    softmax2d(test_probs)[:,10].reshape(10000,1),\n",
    "    softmax2d(notmnist_probs[0])[:,10].reshape(32460,1),\n",
    "    42460,\n",
    "    10000\n",
    ")\n",
    "\n",
    "# roc, ac, fpr, tpr, pr, re = non_distribution(\n",
    "#     test_probs,\n",
    "#     entropy(softmax2d(test_probs[:,:10])).reshape(10000,1),\n",
    "#     entropy(softmax2d(notmnist_probs[0,:,:10])).reshape(32460,1),\n",
    "#     42460,\n",
    "#     10000\n",
    "# )"
   ]
  },
  {
   "cell_type": "code",
   "execution_count": null,
   "metadata": {
    "scrolled": true
   },
   "outputs": [],
   "source": [
    "roc"
   ]
  },
  {
   "cell_type": "code",
   "execution_count": null,
   "metadata": {
    "scrolled": true
   },
   "outputs": [],
   "source": [
    "ac"
   ]
  },
  {
   "cell_type": "code",
   "execution_count": null,
   "metadata": {
    "scrolled": true
   },
   "outputs": [],
   "source": [
    "dump_results(fpr, tpr, pr, re, './results/omniglot/is.pickle')"
   ]
  },
  {
   "cell_type": "markdown",
   "metadata": {},
   "source": [
    "### Cifar-bw"
   ]
  },
  {
   "cell_type": "code",
   "execution_count": null,
   "metadata": {
    "scrolled": true
   },
   "outputs": [],
   "source": [
    "not_mnist_loader = load_cifar_bw(batch_size)"
   ]
  },
  {
   "cell_type": "code",
   "execution_count": null,
   "metadata": {
    "scrolled": true
   },
   "outputs": [],
   "source": [
    "notmnist_truth, notmnist_probs, notmnist_images = not_mnist_predictions([is_], not_mnist_loader, softmaxed=False)"
   ]
  },
  {
   "cell_type": "code",
   "execution_count": null,
   "metadata": {
    "scrolled": true
   },
   "outputs": [],
   "source": [
    "roc, ac, fpr, tpr, pr, re = non_distribution(\n",
    "    test_probs,\n",
    "    softmax2d(test_probs)[:,10].reshape(10000,1),\n",
    "    softmax2d(notmnist_probs[0])[:,10].reshape(50000,1),\n",
    "    60000,\n",
    "    10000\n",
    ")\n",
    "\n"
   ]
  },
  {
   "cell_type": "code",
   "execution_count": null,
   "metadata": {
    "scrolled": true
   },
   "outputs": [],
   "source": [
    "roc"
   ]
  },
  {
   "cell_type": "code",
   "execution_count": null,
   "metadata": {
    "scrolled": true
   },
   "outputs": [],
   "source": [
    "ac"
   ]
  },
  {
   "cell_type": "code",
   "execution_count": null,
   "metadata": {
    "scrolled": true
   },
   "outputs": [],
   "source": [
    "dump_results(fpr, tpr, pr, re, './results/cifar-bw/is.pickle')"
   ]
  }
 ],
 "metadata": {
  "kernelspec": {
   "display_name": "Python 3",
   "language": "python",
   "name": "python3"
  },
  "language_info": {
   "codemirror_mode": {
    "name": "ipython",
    "version": 3
   },
   "file_extension": ".py",
   "mimetype": "text/x-python",
   "name": "python",
   "nbconvert_exporter": "python",
   "pygments_lexer": "ipython3",
   "version": "3.6.6"
  }
 },
 "nbformat": 4,
 "nbformat_minor": 2
}
