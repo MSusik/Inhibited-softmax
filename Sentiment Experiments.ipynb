{
 "cells": [
  {
   "cell_type": "code",
   "execution_count": null,
   "metadata": {},
   "outputs": [],
   "source": [
    "import numpy as np\n",
    "import torch\n",
    "\n",
    "from matplotlib import pyplot as plt\n",
    "from torch import optim\n",
    "\n",
    "from models_code.experiments import test_eval\n",
    "from models_code.experiments import correlation_test_error_uncertainty\n",
    "from models_code.experiments import non_distribution\n",
    "from models_code.experiments import softmax2d\n",
    "from models_code.sentiment import generator_out_of_matrix\n",
    "from models_code.sentiment import Movie\n",
    "from models_code.sentiment import ISMovie\n",
    "from models_code.sentiment import perform_training_sentiment\n",
    "from models_code.utilities import load_model\n",
    "from models_code.utilities import create_model\n",
    "from sklearn.metrics import accuracy_score\n",
    "from sklearn.metrics import log_loss"
   ]
  },
  {
   "cell_type": "code",
   "execution_count": null,
   "metadata": {},
   "outputs": [],
   "source": [
    "train_matrix = np.load(open('./movies/train_e.npy', \"rb\"))\n",
    "test_matrix = np.load(open('./movies/test_e.npy', \"rb\"))\n",
    "labels = np.zeros(25000, dtype=np.int)\n",
    "labels[:12500] = 1"
   ]
  },
  {
   "cell_type": "markdown",
   "metadata": {},
   "source": [
    "### Inhibited softmax"
   ]
  },
  {
   "cell_type": "code",
   "execution_count": null,
   "metadata": {},
   "outputs": [],
   "source": [
    "is_, optimizer, loss_function = create_model(\n",
    "    ISMovie,\n",
    "    loss_function=torch.nn.CrossEntropyLoss,\n",
    "    optimizer=lambda x: optim.RMSprop(x, lr=0.0005)\n",
    ")\n",
    "\n",
    "def is_loss(model):\n",
    "\n",
    "    return (\n",
    "        lambda pred,aft_cauchy,y: loss_function(pred,y)\n",
    "        - 0.000001 * aft_cauchy.sum()\n",
    "    )\n",
    "\n",
    "perform_training_sentiment(\n",
    "    60,\n",
    "    is_,\n",
    "    train_matrix,\n",
    "    test_matrix,\n",
    "    labels,\n",
    "    optimizer,\n",
    "    is_loss(is_),\n",
    "    100,\n",
    "    'models/sentiment/is.torch',\n",
    "    100,\n",
    "    bce=False\n",
    ")\n",
    "\n",
    "\n",
    "# is_ = load_model(ISMovie, 'models/sentiment/is.torch')"
   ]
  },
  {
   "cell_type": "code",
   "execution_count": null,
   "metadata": {},
   "outputs": [],
   "source": [
    "test_preds, test_labels, test_probs = test_eval(\n",
    "    is_,\n",
    "    generator_out_of_matrix(test_matrix, labels, 100, shuffle=False),\n",
    "    is_sentiment=True\n",
    ")"
   ]
  },
  {
   "cell_type": "code",
   "execution_count": null,
   "metadata": {},
   "outputs": [],
   "source": [
    "from matplotlib import pyplot as plt"
   ]
  },
  {
   "cell_type": "code",
   "execution_count": null,
   "metadata": {},
   "outputs": [],
   "source": [
    "accuracy_score(test_labels, np.argmax(test_probs, axis=1))"
   ]
  },
  {
   "cell_type": "code",
   "execution_count": null,
   "metadata": {},
   "outputs": [],
   "source": [
    "log_loss(test_labels, softmax2d(test_probs[:,:2])[:,1])"
   ]
  },
  {
   "cell_type": "markdown",
   "metadata": {},
   "source": [
    "### Second experiment"
   ]
  },
  {
   "cell_type": "code",
   "execution_count": null,
   "metadata": {},
   "outputs": [],
   "source": [
    "roc, ac, fpr, tpr, pr, re = correlation_test_error_uncertainty(\n",
    "    lambda x: softmax2d(x)[:,2],\n",
    "    test_probs,\n",
    "    test_labels,\n",
    "    num_classes=2\n",
    ")\n",
    "\n",
    "roc"
   ]
  },
  {
   "cell_type": "code",
   "execution_count": null,
   "metadata": {},
   "outputs": [],
   "source": [
    "ac"
   ]
  },
  {
   "cell_type": "markdown",
   "metadata": {},
   "source": [
    "### Third experiment"
   ]
  },
  {
   "cell_type": "code",
   "execution_count": null,
   "metadata": {},
   "outputs": [],
   "source": [
    "crd_matrix = np.load(open('./nonmovies/crd_e.npy', \"rb\"))\n",
    "rp_matrix = np.load(open('./nonmovies/rp_e.npy', \"rb\"))\n",
    "rp_preds, rp_labels, rp_probs = test_eval(\n",
    "    is_,\n",
    "    generator_out_of_matrix(rp_matrix, np.zeros(rp_matrix.shape[0], dtype=np.int), 100, shuffle=False),\n",
    "    is_sentiment=True\n",
    ")\n",
    "rp_labels = np.zeros(2000, dtype=np.int)\n",
    "rp_labels[:1000] = 1\n",
    "accuracy_score(rp_labels, rp_preds > 0.5)"
   ]
  },
  {
   "cell_type": "code",
   "execution_count": null,
   "metadata": {},
   "outputs": [],
   "source": [
    "log_loss(rp_labels, softmax2d(rp_probs[:,:2])[:,1])"
   ]
  },
  {
   "cell_type": "code",
   "execution_count": null,
   "metadata": {},
   "outputs": [],
   "source": [
    "crd_preds, crd_labels, crd_probs = test_eval(\n",
    "    is_,\n",
    "    generator_out_of_matrix(crd_matrix, np.zeros(crd_matrix.shape[0], dtype=np.int), 100, shuffle=False),\n",
    "    is_sentiment=True\n",
    ")\n",
    "roc, ac, fpr, tpr, pr, re = non_distribution(\n",
    "    test_probs,\n",
    "    softmax2d(test_probs)[:,2],\n",
    "    softmax2d(crd_probs)[:,2],\n",
    "    25315,\n",
    "    25000\n",
    ")\n",
    "\n",
    "roc"
   ]
  },
  {
   "cell_type": "code",
   "execution_count": null,
   "metadata": {},
   "outputs": [],
   "source": [
    "ac"
   ]
  },
  {
   "cell_type": "code",
   "execution_count": null,
   "metadata": {},
   "outputs": [],
   "source": [
    "reuters_matrix = np.load(open('./nonmovies/reuters_e.npy', \"rb\"))\n",
    "news_matrix = np.load(open('./nonmovies/news_e.npy', \"rb\"))\n",
    "reuters_preds, reuters_labels, reuters_probs = test_eval(\n",
    "    is_,\n",
    "    generator_out_of_matrix(reuters_matrix, np.zeros(reuters_matrix.shape[0], dtype=np.int), 100, shuffle=False),\n",
    "    is_sentiment=True\n",
    ")\n",
    "roc, ac, fpr, tpr, pr, re = non_distribution(\n",
    "    test_probs,\n",
    "    softmax2d(test_probs)[:,2],\n",
    "    softmax2d(reuters_probs)[:,2],\n",
    "    46578,\n",
    "    25000\n",
    ")\n",
    "\n",
    "roc"
   ]
  },
  {
   "cell_type": "code",
   "execution_count": null,
   "metadata": {},
   "outputs": [],
   "source": [
    "ac"
   ]
  },
  {
   "cell_type": "code",
   "execution_count": null,
   "metadata": {},
   "outputs": [],
   "source": [
    "news_preds, news_labels, news_probs = test_eval(\n",
    "    is_,\n",
    "    generator_out_of_matrix(news_matrix, np.zeros(news_matrix.shape[0], dtype=np.int), 100, shuffle=False),\n",
    "    is_sentiment=True\n",
    ")\n",
    "roc, ac, fpr, tpr, pr, re = non_distribution(\n",
    "    test_probs,\n",
    "    softmax2d(test_probs)[:,2],\n",
    "    softmax2d(news_probs)[:,2],\n",
    "    43828,\n",
    "    25000\n",
    ")\n",
    "\n",
    "roc"
   ]
  },
  {
   "cell_type": "code",
   "execution_count": null,
   "metadata": {},
   "outputs": [],
   "source": [
    "ac"
   ]
  }
 ],
 "metadata": {
  "kernelspec": {
   "display_name": "Python 3",
   "language": "python",
   "name": "python3"
  },
  "language_info": {
   "codemirror_mode": {
    "name": "ipython",
    "version": 3
   },
   "file_extension": ".py",
   "mimetype": "text/x-python",
   "name": "python",
   "nbconvert_exporter": "python",
   "pygments_lexer": "ipython3",
   "version": "3.7.1"
  }
 },
 "nbformat": 4,
 "nbformat_minor": 2
}
