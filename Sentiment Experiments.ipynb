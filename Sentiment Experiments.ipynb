{
 "cells": [
  {
   "cell_type": "code",
   "execution_count": null,
   "metadata": {},
   "outputs": [],
   "source": [
    "import numpy as np\n",
    "import torch\n",
    "import torchwordemb\n",
    "\n",
    "from matplotlib import pyplot as plt\n",
    "from torch import optim\n",
    "\n",
    "\n",
    "from models_code.mnist import MonteCarloDropout\n",
    "from models_code.experiments import test_eval\n",
    "from models_code.experiments import test_eval_variational\n",
    "from models_code.experiments import correlation_test_error_uncertainty\n",
    "from models_code.experiments import non_distribution\n",
    "from models_code.experiments import correlation_test_error_uncertainty_variational\n",
    "from models_code.experiments import softmax2d\n",
    "from models_code.sentiment import generator_out_of_matrix\n",
    "from models_code.sentiment import Movie\n",
    "from models_code.sentiment import MCMovie\n",
    "from models_code.sentiment import ISMovie\n",
    "from models_code.bayesbybackprop import BBPMovie\n",
    "from models_code.sentiment import perform_training_sentiment\n",
    "from models_code.utilities import load_model\n",
    "from models_code.utilities import create_model\n",
    "from sklearn.metrics import accuracy_score\n",
    "from sklearn.metrics import log_loss\n",
    "\n",
    "from utilities.metric import predictive_entropy\n",
    "from utilities.metric import entropy"
   ]
  },
  {
   "cell_type": "code",
   "execution_count": null,
   "metadata": {},
   "outputs": [],
   "source": [
    "train_matrix = np.load(open('./movies/train_e.npy', \"rb\"))\n",
    "test_matrix = np.load(open('./movies/test_e.npy', \"rb\"))\n",
    "labels = np.zeros(25000, dtype=np.int)\n",
    "labels[:12500] = 1"
   ]
  },
  {
   "cell_type": "markdown",
   "metadata": {},
   "source": [
    "# Standard network"
   ]
  },
  {
   "cell_type": "code",
   "execution_count": null,
   "metadata": {},
   "outputs": [],
   "source": [
    "standard, optimizer, loss_function = create_model(\n",
    "    Movie,\n",
    "    loss_function=torch.nn.BCEWithLogitsLoss,\n",
    "    optimizer=lambda x: optim.RMSprop(x, lr=0.0005)\n",
    ")\n",
    "\n",
    "perform_training_sentiment(\n",
    "    60,\n",
    "    standard,\n",
    "    train_matrix,\n",
    "    test_matrix,\n",
    "    labels,\n",
    "    optimizer,\n",
    "    loss_function,\n",
    "    100,\n",
    "    'models/sentiment/standard.torch',\n",
    "    100\n",
    ")\n",
    "\n",
    "# standard = load_model(Movie, 'models/sentiment/standard.torch')"
   ]
  },
  {
   "cell_type": "markdown",
   "metadata": {},
   "source": [
    "### Experiment 1"
   ]
  },
  {
   "cell_type": "code",
   "execution_count": null,
   "metadata": {},
   "outputs": [],
   "source": [
    "test_preds, test_labels, test_probs = test_eval(\n",
    "    standard,\n",
    "    generator_out_of_matrix(test_matrix, labels, 100, shuffle=False),\n",
    "    sentiment=True\n",
    ")\n",
    "print(accuracy_score(labels, test_probs > 0))\n",
    "\n",
    "print(log_loss(labels, test_preds, eps=1e-7))"
   ]
  },
  {
   "cell_type": "markdown",
   "metadata": {},
   "source": [
    "### Experiment 2"
   ]
  },
  {
   "cell_type": "code",
   "execution_count": null,
   "metadata": {},
   "outputs": [],
   "source": [
    "\n",
    "\n",
    "roc, ac, fpr, tpr, pr, re = correlation_test_error_uncertainty(\n",
    "    lambda x: 1-np.abs(x-0.5),\n",
    "    test_preds,\n",
    "    test_labels,\n",
    "    num_classes=2\n",
    ")\n",
    "print(roc)\n",
    "print(ac)"
   ]
  },
  {
   "cell_type": "markdown",
   "metadata": {},
   "source": [
    "### Experiment 3"
   ]
  },
  {
   "cell_type": "code",
   "execution_count": null,
   "metadata": {},
   "outputs": [],
   "source": [
    "crd_matrix = np.load(open('./nonmovies/crd_e.npy', \"rb\"))\n",
    "rp_matrix = np.load(open('./nonmovies/rp_e.npy', \"rb\"))\n",
    "rp_preds, rp_labels, rp_probs = test_eval(\n",
    "    standard,\n",
    "    generator_out_of_matrix(rp_matrix, np.zeros(rp_matrix.shape[0], dtype=np.int), 100, shuffle=False),\n",
    "    sentiment=True\n",
    ")\n",
    "rp_labels = np.zeros(2000, dtype=np.int)\n",
    "rp_labels[:1000] = 1\n",
    "print(accuracy_score(rp_labels, rp_preds > 0.5))\n",
    "print(log_loss(rp_labels, rp_preds, eps=1e-7))"
   ]
  },
  {
   "cell_type": "code",
   "execution_count": null,
   "metadata": {},
   "outputs": [],
   "source": [
    "crd_preds, crd_labels, crd_probs = test_eval(\n",
    "    standard,\n",
    "    generator_out_of_matrix(crd_matrix, np.zeros(crd_matrix.shape[0], dtype=np.int), 100, shuffle=False),\n",
    "    sentiment=True\n",
    ")\n",
    "roc, ac, fpr, tpr, pr, re = non_distribution(\n",
    "    test_probs,\n",
    "    -np.abs(0.5-test_preds),\n",
    "    -np.abs(0.5-crd_preds),\n",
    "    25314,\n",
    "    25000\n",
    ")\n",
    "print(roc)\n",
    "print(ac)"
   ]
  },
  {
   "cell_type": "code",
   "execution_count": null,
   "metadata": {},
   "outputs": [],
   "source": [
    "reuters_matrix = np.load(open('./nonmovies/reuters_e.npy', \"rb\"))\n",
    "news_matrix = np.load(open('./nonmovies/news_e.npy', \"rb\"))\n",
    "reuters_preds, reuters_labels, reuters_probs = test_eval(\n",
    "    standard,\n",
    "    generator_out_of_matrix(reuters_matrix, np.zeros(reuters_matrix.shape[0], dtype=np.int), 100, shuffle=False),\n",
    "    sentiment=True\n",
    ")\n",
    "roc, ac, fpr, tpr, pr, re = non_distribution(\n",
    "    test_probs,\n",
    "    -np.abs(0.5-test_preds),\n",
    "    -np.abs(0.5-reuters_preds),\n",
    "    46578,\n",
    "    25000\n",
    ")\n",
    "print(roc)\n",
    "print(ac)"
   ]
  },
  {
   "cell_type": "code",
   "execution_count": null,
   "metadata": {},
   "outputs": [],
   "source": [
    "news_preds, news_labels, news_probs = test_eval(\n",
    "    standard,\n",
    "    generator_out_of_matrix(news_matrix, np.zeros(news_matrix.shape[0], dtype=np.int), 100, shuffle=False),\n",
    "    sentiment=True\n",
    ")\n",
    "roc, ac, fpr, tpr, pr, re = non_distribution(\n",
    "    test_probs,\n",
    "    -np.abs(0.5-test_preds),\n",
    "    -np.abs(0.5-news_preds),\n",
    "    43828,\n",
    "    25000\n",
    ")\n",
    "print(roc)\n",
    "print(ac)"
   ]
  },
  {
   "cell_type": "markdown",
   "metadata": {},
   "source": [
    "# MC Dropout"
   ]
  },
  {
   "cell_type": "code",
   "execution_count": null,
   "metadata": {},
   "outputs": [],
   "source": [
    "# mc, optimizer, loss_function = create_model(\n",
    "#     MCMovie,\n",
    "#     loss_function=torch.nn.BCEWithLogitsLoss,\n",
    "#     optimizer=lambda x: optim.RMSprop(x, lr=0.0005)\n",
    "# )\n",
    "\n",
    "# perform_training_sentiment(\n",
    "#     60,\n",
    "#     mc,\n",
    "#     train_matrix,\n",
    "#     test_matrix,\n",
    "#     labels,\n",
    "#     optimizer,\n",
    "#     loss_function,\n",
    "#     100,\n",
    "#     'models/sentiment/mc2.torch',\n",
    "#     100\n",
    "# )\n",
    "\n",
    "mc = load_model(MCMovie, 'models/sentiment/mc2.torch')"
   ]
  },
  {
   "cell_type": "code",
   "execution_count": null,
   "metadata": {},
   "outputs": [],
   "source": [
    "mc.dropout = MonteCarloDropout(0.5)"
   ]
  },
  {
   "cell_type": "code",
   "execution_count": null,
   "metadata": {},
   "outputs": [],
   "source": [
    "test_labels, test_preds = test_eval_variational(\n",
    "    mc,\n",
    "    generator_out_of_matrix(test_matrix, labels, 100, shuffle=False),\n",
    "    50,\n",
    "    sentiment=True\n",
    ")"
   ]
  },
  {
   "cell_type": "code",
   "execution_count": null,
   "metadata": {},
   "outputs": [],
   "source": [
    "accuracy_score(test_labels, np.mean(test_preds, axis=0) > 0.5)"
   ]
  },
  {
   "cell_type": "code",
   "execution_count": null,
   "metadata": {},
   "outputs": [],
   "source": [
    "log_loss(test_labels, np.mean(test_preds, axis=0), eps=1e-7)"
   ]
  },
  {
   "cell_type": "markdown",
   "metadata": {},
   "source": [
    "### Second experiment"
   ]
  },
  {
   "cell_type": "code",
   "execution_count": null,
   "metadata": {},
   "outputs": [],
   "source": [
    "roc, ac, fpr, tpr, pr, re = correlation_test_error_uncertainty_variational(\n",
    "    predictive_entropy,\n",
    "    test_preds,\n",
    "    test_labels\n",
    ")"
   ]
  },
  {
   "cell_type": "code",
   "execution_count": null,
   "metadata": {},
   "outputs": [],
   "source": [
    "roc"
   ]
  },
  {
   "cell_type": "code",
   "execution_count": null,
   "metadata": {},
   "outputs": [],
   "source": [
    "ac"
   ]
  },
  {
   "cell_type": "markdown",
   "metadata": {},
   "source": [
    "### Third experiment"
   ]
  },
  {
   "cell_type": "code",
   "execution_count": null,
   "metadata": {},
   "outputs": [],
   "source": [
    "crd_matrix = np.load(open('./nonmovies/crd_e.npy', \"rb\"))\n",
    "rp_matrix = np.load(open('./nonmovies/rp_e.npy', \"rb\"))\n",
    "rp_labels, rp_probs = test_eval_variational(\n",
    "    mc,\n",
    "    generator_out_of_matrix(rp_matrix, np.zeros(rp_matrix.shape[0], dtype=np.int), 100, shuffle=False),\n",
    "    50,\n",
    "    sentiment=True\n",
    ")\n",
    "rp_labels = np.zeros(2000, dtype=np.int)\n",
    "rp_labels[:1000] = 1\n",
    "accuracy_score(rp_labels, np.mean(rp_probs,axis=0) > 0.5)"
   ]
  },
  {
   "cell_type": "code",
   "execution_count": null,
   "metadata": {},
   "outputs": [],
   "source": [
    "log_loss(rp_labels, np.mean(rp_probs,axis=0), eps=1e-7)"
   ]
  },
  {
   "cell_type": "code",
   "execution_count": null,
   "metadata": {},
   "outputs": [],
   "source": [
    "crd_labels, crd_preds = test_eval_variational(\n",
    "    mc,\n",
    "    generator_out_of_matrix(crd_matrix, np.zeros(crd_matrix.shape[0], dtype=np.int), 100, shuffle=False),\n",
    "    50,\n",
    "    sentiment=True\n",
    ")\n",
    "roc, ac, fpr, tpr, pr, re = non_distribution(\n",
    "    None,\n",
    "    predictive_entropy(np.stack([1-test_preds[:,:,0], test_preds[:,:,0]], axis=2)).reshape(25000,1),    \n",
    "    predictive_entropy(np.stack([1-crd_preds[:,:,0], crd_preds[:,:,0]], axis=2)).reshape(314,1),\n",
    "    25314,\n",
    "    25000\n",
    ")\n",
    "roc"
   ]
  },
  {
   "cell_type": "code",
   "execution_count": null,
   "metadata": {},
   "outputs": [],
   "source": [
    "ac"
   ]
  },
  {
   "cell_type": "code",
   "execution_count": null,
   "metadata": {},
   "outputs": [],
   "source": [
    "reuters_matrix = np.load(open('./nonmovies/reuters_e.npy', \"rb\"))\n",
    "news_matrix = np.load(open('./nonmovies/news_e.npy', \"rb\"))\n",
    "reuters_labels, reuters_preds = test_eval_variational(\n",
    "    mc,\n",
    "    generator_out_of_matrix(reuters_matrix, np.zeros(reuters_matrix.shape[0], dtype=np.int), 100, shuffle=False),\n",
    "    50,\n",
    "    sentiment=True\n",
    ")\n",
    "\n",
    "\n",
    "roc, ac, fpr, tpr, pr, re = non_distribution(\n",
    "    None,\n",
    "    predictive_entropy(np.stack([1-test_preds[:,:,0], test_preds[:,:,0]], axis=2)).reshape(25000,1),\n",
    "    predictive_entropy(np.stack([1-reuters_preds[:,:,0], reuters_preds[:,:,0]], axis=2)).reshape(21578,1),\n",
    "    46578,\n",
    "    25000\n",
    ")\n",
    "roc"
   ]
  },
  {
   "cell_type": "code",
   "execution_count": null,
   "metadata": {},
   "outputs": [],
   "source": [
    "ac"
   ]
  },
  {
   "cell_type": "code",
   "execution_count": null,
   "metadata": {},
   "outputs": [],
   "source": [
    "news_labels, news_preds = test_eval_variational(\n",
    "    mc,\n",
    "    generator_out_of_matrix(news_matrix, np.zeros(news_matrix.shape[0], dtype=np.int), 100, shuffle=False),\n",
    "    50,\n",
    "    sentiment=True\n",
    ")\n",
    "roc, ac, fpr, tpr, pr, re = non_distribution(\n",
    "    None,\n",
    "    predictive_entropy(np.stack([1-test_preds[:,:,0], test_preds[:,:,0]], axis=2)).reshape(25000,1),\n",
    "    predictive_entropy(np.stack([1-news_preds[:,:,0], news_preds[:,:,0]], axis=2)).reshape(18828,1),\n",
    "    43828,\n",
    "    25000\n",
    ")\n",
    "roc"
   ]
  },
  {
   "cell_type": "code",
   "execution_count": null,
   "metadata": {},
   "outputs": [],
   "source": [
    "ac"
   ]
  },
  {
   "cell_type": "markdown",
   "metadata": {},
   "source": [
    "### Inhibited softmax"
   ]
  },
  {
   "cell_type": "code",
   "execution_count": null,
   "metadata": {},
   "outputs": [],
   "source": [
    "is_, optimizer, loss_function = create_model(\n",
    "    ISMovie,\n",
    "    loss_function=torch.nn.CrossEntropyLoss,\n",
    "    optimizer=lambda x: optim.RMSprop(x, lr=0.0005)\n",
    ")\n",
    "\n",
    "# def is_loss(model):\n",
    "    \n",
    "#     return (\n",
    "#         lambda pred,y: loss_function(pred,y)\n",
    "#         + 0.01 * (model.dense.weight.data ** 2).sum()\n",
    "#         + 0.000001 * pred.sum()\n",
    "#     )\n",
    "\n",
    "# perform_training_sentiment(\n",
    "#     60,\n",
    "#     is_,\n",
    "#     train_matrix,\n",
    "#     test_matrix,\n",
    "#     labels,\n",
    "#     optimizer,\n",
    "#     is_loss(is_),\n",
    "#     100,\n",
    "#     'models/sentiment/is.torch',\n",
    "#     100,\n",
    "#     bce=False\n",
    "# )\n",
    "\n",
    "\n",
    "is_ = load_model(ISMovie, 'models/sentiment/is.torch')"
   ]
  },
  {
   "cell_type": "code",
   "execution_count": null,
   "metadata": {},
   "outputs": [],
   "source": [
    "test_preds, test_labels, test_probs = test_eval(\n",
    "    is_,\n",
    "    generator_out_of_matrix(test_matrix, labels, 100, shuffle=False),\n",
    "    is_sentiment=True\n",
    ")"
   ]
  },
  {
   "cell_type": "code",
   "execution_count": null,
   "metadata": {},
   "outputs": [],
   "source": [
    "from matplotlib import pyplot as plt"
   ]
  },
  {
   "cell_type": "code",
   "execution_count": null,
   "metadata": {},
   "outputs": [],
   "source": [
    "accuracy_score(test_labels, np.argmax(test_probs, axis=1))"
   ]
  },
  {
   "cell_type": "code",
   "execution_count": null,
   "metadata": {},
   "outputs": [],
   "source": [
    "log_loss(test_labels, softmax2d(test_probs[:,:2])[:,1])"
   ]
  },
  {
   "cell_type": "markdown",
   "metadata": {},
   "source": [
    "### Second experiment"
   ]
  },
  {
   "cell_type": "code",
   "execution_count": null,
   "metadata": {},
   "outputs": [],
   "source": [
    "\n",
    "\n",
    "roc, ac, fpr, tpr, pr, re = correlation_test_error_uncertainty(\n",
    "    lambda x: softmax2d(x)[:,2],\n",
    "    test_probs,\n",
    "    test_labels,\n",
    "    num_classes=2\n",
    ")\n",
    "# roc, ac, fpr, tpr, pr, re = correlation_test_error_uncertainty(\n",
    "#     lambda x: entropy(softmax2d(x)),\n",
    "#     test_probs,\n",
    "#     test_labels,\n",
    "#     num_classes=2\n",
    "# )\n",
    "\n",
    "roc"
   ]
  },
  {
   "cell_type": "code",
   "execution_count": null,
   "metadata": {},
   "outputs": [],
   "source": [
    "ac"
   ]
  },
  {
   "cell_type": "markdown",
   "metadata": {},
   "source": [
    "### Third experiment"
   ]
  },
  {
   "cell_type": "code",
   "execution_count": null,
   "metadata": {},
   "outputs": [],
   "source": [
    "crd_matrix = np.load(open('./nonmovies/crd_e.npy', \"rb\"))\n",
    "rp_matrix = np.load(open('./nonmovies/rp_e.npy', \"rb\"))\n",
    "rp_preds, rp_labels, rp_probs = test_eval(\n",
    "    is_,\n",
    "    generator_out_of_matrix(rp_matrix, np.zeros(rp_matrix.shape[0], dtype=np.int), 100, shuffle=False),\n",
    "    is_sentiment=True\n",
    ")\n",
    "rp_labels = np.zeros(2000, dtype=np.int)\n",
    "rp_labels[:1000] = 1\n",
    "accuracy_score(rp_labels, rp_preds > 0.5)"
   ]
  },
  {
   "cell_type": "code",
   "execution_count": null,
   "metadata": {},
   "outputs": [],
   "source": [
    "log_loss(rp_labels, softmax2d(rp_probs[:,:2])[:,1])"
   ]
  },
  {
   "cell_type": "code",
   "execution_count": null,
   "metadata": {},
   "outputs": [],
   "source": [
    "crd_preds, crd_labels, crd_probs = test_eval(\n",
    "    is_,\n",
    "    generator_out_of_matrix(crd_matrix, np.zeros(crd_matrix.shape[0], dtype=np.int), 100, shuffle=False),\n",
    "    is_sentiment=True\n",
    ")\n",
    "roc, ac, fpr, tpr, pr, re = non_distribution(\n",
    "    test_probs,\n",
    "    softmax2d(test_probs)[:,2],\n",
    "    softmax2d(crd_probs)[:,2],\n",
    "    25314,\n",
    "    25000\n",
    ")\n",
    "# roc, ac, fpr, tpr, pr, re = non_distribution(\n",
    "#     test_probs,\n",
    "#     entropy(softmax2d(test_probs)),\n",
    "#     entropy(softmax2d(crd_probs)),\n",
    "#     25314,\n",
    "#     25000\n",
    "# )\n",
    "roc"
   ]
  },
  {
   "cell_type": "code",
   "execution_count": null,
   "metadata": {},
   "outputs": [],
   "source": [
    "ac"
   ]
  },
  {
   "cell_type": "code",
   "execution_count": null,
   "metadata": {},
   "outputs": [],
   "source": [
    "reuters_matrix = np.load(open('./nonmovies/reuters_e.npy', \"rb\"))\n",
    "news_matrix = np.load(open('./nonmovies/news_e.npy', \"rb\"))\n",
    "reuters_preds, reuters_labels, reuters_probs = test_eval(\n",
    "    is_,\n",
    "    generator_out_of_matrix(reuters_matrix, np.zeros(reuters_matrix.shape[0], dtype=np.int), 100, shuffle=False),\n",
    "    is_sentiment=True\n",
    ")\n",
    "roc, ac, fpr, tpr, pr, re = non_distribution(\n",
    "    test_probs,\n",
    "    softmax2d(test_probs)[:,2],\n",
    "    softmax2d(reuters_probs)[:,2],\n",
    "    46578,\n",
    "    25000\n",
    ")\n",
    "\n",
    "# roc, ac, fpr, tpr, pr, re = non_distribution(\n",
    "#     test_probs,\n",
    "#     entropy(softmax2d(test_probs)),\n",
    "#     entropy(softmax2d(reuters_probs)),\n",
    "#     46578,\n",
    "#     25000\n",
    "# )\n",
    "roc"
   ]
  },
  {
   "cell_type": "code",
   "execution_count": null,
   "metadata": {},
   "outputs": [],
   "source": [
    "ac"
   ]
  },
  {
   "cell_type": "code",
   "execution_count": null,
   "metadata": {},
   "outputs": [],
   "source": [
    "news_preds, news_labels, news_probs = test_eval(\n",
    "    is_,\n",
    "    generator_out_of_matrix(news_matrix, np.zeros(news_matrix.shape[0], dtype=np.int), 100, shuffle=False),\n",
    "    is_sentiment=True\n",
    ")\n",
    "roc, ac, fpr, tpr, pr, re = non_distribution(\n",
    "    test_probs,\n",
    "    softmax2d(test_probs)[:,2],\n",
    "    softmax2d(news_probs)[:,2],\n",
    "    43828,\n",
    "    25000\n",
    ")\n",
    "\n",
    "\n",
    "# roc, ac, fpr, tpr, pr, re = non_distribution(\n",
    "#     test_probs,\n",
    "#     entropy(softmax2d(test_probs)),\n",
    "#     entropy(softmax2d(news_probs)),\n",
    "#     43828,\n",
    "#     25000\n",
    "# )\n",
    "roc"
   ]
  },
  {
   "cell_type": "code",
   "execution_count": null,
   "metadata": {},
   "outputs": [],
   "source": [
    "ac"
   ]
  },
  {
   "cell_type": "markdown",
   "metadata": {},
   "source": [
    "### Deep Ensembles"
   ]
  },
  {
   "cell_type": "code",
   "execution_count": null,
   "metadata": {},
   "outputs": [],
   "source": [
    "for i in range(5):\n",
    "\n",
    "    standard, optimizer, loss_function = create_model(\n",
    "        Movie,\n",
    "        loss_function=torch.nn.BCEWithLogitsLoss,\n",
    "        optimizer=lambda x: optim.RMSprop(x, lr=0.0005)\n",
    "    )\n",
    "\n",
    "    perform_training_sentiment(\n",
    "        60,\n",
    "        standard,\n",
    "        train_matrix,\n",
    "        test_matrix,\n",
    "        labels,\n",
    "        optimizer,\n",
    "        loss_function,\n",
    "        100,\n",
    "        'models/sentiment/de{}.torch'.format(i),\n",
    "        100\n",
    "    )\n",
    "\n",
    "\n",
    "# models = [load_model(Movie, 'models/sentiment/de{}.torch'.format(i)) for i in range(5)]"
   ]
  },
  {
   "cell_type": "code",
   "execution_count": null,
   "metadata": {},
   "outputs": [],
   "source": [
    "#test_preds, test_labels, test_probs = test_eval(\n",
    "test_results = [test_eval(\n",
    "    model,\n",
    "    generator_out_of_matrix(test_matrix, labels, 100, shuffle=False),\n",
    "    sentiment=True\n",
    ") for model in models]"
   ]
  },
  {
   "cell_type": "code",
   "execution_count": null,
   "metadata": {},
   "outputs": [],
   "source": [
    "def sigmoid(x):\n",
    "    return 1/(1+np.exp(-x))\n",
    "test_probs = np.mean(np.stack([sigmoid(m[2])for m in test_results]), axis=0)\n",
    "accuracy_score(\n",
    "    labels,\n",
    "    test_probs > 0.5\n",
    ")"
   ]
  },
  {
   "cell_type": "code",
   "execution_count": null,
   "metadata": {},
   "outputs": [],
   "source": [
    "log_loss(\n",
    "    labels,\n",
    "    test_probs,\n",
    "    eps=1e-7\n",
    ")"
   ]
  },
  {
   "cell_type": "markdown",
   "metadata": {},
   "source": [
    "### Second experiment"
   ]
  },
  {
   "cell_type": "code",
   "execution_count": null,
   "metadata": {},
   "outputs": [],
   "source": [
    "roc, ac, fpr, tpr, pr, re = correlation_test_error_uncertainty_variational(\n",
    "    predictive_entropy,\n",
    "    np.stack([sigmoid(m[2])for m in test_results]),\n",
    "    labels\n",
    ")"
   ]
  },
  {
   "cell_type": "code",
   "execution_count": null,
   "metadata": {},
   "outputs": [],
   "source": [
    "roc"
   ]
  },
  {
   "cell_type": "code",
   "execution_count": null,
   "metadata": {},
   "outputs": [],
   "source": [
    "ac\n"
   ]
  },
  {
   "cell_type": "markdown",
   "metadata": {},
   "source": [
    "### Third experiment"
   ]
  },
  {
   "cell_type": "code",
   "execution_count": null,
   "metadata": {},
   "outputs": [],
   "source": [
    "crd_matrix = np.load(open('./nonmovies/crd_e.npy', \"rb\"))\n",
    "rp_matrix = np.load(open('./nonmovies/rp_e.npy', \"rb\"))\n",
    "\n",
    "rp_results = [test_eval(\n",
    "    model,\n",
    "    generator_out_of_matrix(rp_matrix, np.zeros(rp_matrix.shape[0], dtype=np.int), 100, shuffle=False),\n",
    "    is_sentiment=True\n",
    ") for model in models]\n",
    "\n",
    "rp_probs = np.stack([sigmoid(rp[2]) for rp in rp_results])\n",
    "rp_labels = np.zeros(2000, dtype=np.int)\n",
    "rp_labels[:1000] = 1\n",
    "accuracy_score(rp_labels, np.mean(rp_probs,axis=0) > 0.5)"
   ]
  },
  {
   "cell_type": "code",
   "execution_count": null,
   "metadata": {},
   "outputs": [],
   "source": [
    "log_loss(rp_labels, np.mean(sigmoid(rp_probs),axis=0), 1e-7)"
   ]
  },
  {
   "cell_type": "code",
   "execution_count": null,
   "metadata": {},
   "outputs": [],
   "source": [
    "dual_preds = np.stack([sigmoid(m[2])for m in test_results])[:,:,0].T"
   ]
  },
  {
   "cell_type": "code",
   "execution_count": null,
   "metadata": {},
   "outputs": [],
   "source": [
    "# crd_preds, crd_labels, crd_probs = test_eval(\n",
    "crd_results = [test_eval(\n",
    "    model,\n",
    "    generator_out_of_matrix(crd_matrix, np.zeros(crd_matrix.shape[0], dtype=np.int), 100, shuffle=False),\n",
    "    sentiment=True\n",
    ") for model in models]\n",
    "\n",
    "crd_probs = np.stack([sigmoid(crd[2]) for crd in crd_results])\n",
    "\n",
    "roc, ac, fpr, tpr, pr, re = non_distribution(\n",
    "    None,\n",
    "    predictive_entropy(np.stack([1-dual_preds.T, dual_preds.T], axis=2)).reshape(25000,1),\n",
    "    predictive_entropy(np.stack([1-crd_probs[:,:,0], crd_probs[:,:,0]], axis=2)).reshape(314,1),\n",
    "    25314,\n",
    "    25000\n",
    ")\n",
    "roc"
   ]
  },
  {
   "cell_type": "code",
   "execution_count": null,
   "metadata": {},
   "outputs": [],
   "source": [
    "ac"
   ]
  },
  {
   "cell_type": "code",
   "execution_count": null,
   "metadata": {},
   "outputs": [],
   "source": [
    "reuters_matrix = np.load(open('./nonmovies/reuters_e.npy', \"rb\"))\n",
    "news_matrix = np.load(open('./nonmovies/news_e.npy', \"rb\"))\n",
    "\n",
    "reuters_results = [test_eval(\n",
    "    model,\n",
    "    generator_out_of_matrix(reuters_matrix, np.zeros(reuters_matrix.shape[0], dtype=np.int), 100, shuffle=False),\n",
    "    sentiment=True\n",
    ") for model in models]\n",
    "\n",
    "reuters_probs = np.stack([sigmoid(reuters[2]) for reuters in reuters_results])\n",
    "\n",
    "\n",
    "\n",
    "roc, ac, fpr, tpr, pr, re = non_distribution(\n",
    "    None,\n",
    "    predictive_entropy(np.stack([1-dual_preds.T, dual_preds.T], axis=2)).reshape(25000,1),\n",
    "    predictive_entropy(np.stack([1-reuters_probs[:,:,0], reuters_probs[:,:,0]], axis=2)).reshape(21578,1),\n",
    "\n",
    "    46578,\n",
    "    25000\n",
    ")\n",
    "roc"
   ]
  },
  {
   "cell_type": "code",
   "execution_count": null,
   "metadata": {},
   "outputs": [],
   "source": [
    "ac"
   ]
  },
  {
   "cell_type": "code",
   "execution_count": null,
   "metadata": {},
   "outputs": [],
   "source": [
    "from utilities.metric import expected_entropy"
   ]
  },
  {
   "cell_type": "code",
   "execution_count": null,
   "metadata": {},
   "outputs": [],
   "source": [
    "\n",
    "news_results = [test_eval(\n",
    "    model,\n",
    "    generator_out_of_matrix(news_matrix, np.zeros(news_matrix.shape[0], dtype=np.int), 100, shuffle=False),\n",
    "    sentiment=True\n",
    ") for model in models]\n",
    "\n",
    "news_probs = np.stack([sigmoid(news[2]) for news in news_results])\n",
    "\n",
    "\n",
    "roc, ac, fpr, tpr, pr, re = non_distribution(\n",
    "    None,\n",
    "    predictive_entropy(np.stack([1-dual_preds.T, dual_preds.T], axis=2)).reshape(25000,1),\n",
    "    predictive_entropy(np.stack([1-news_probs[:,:,0], news_probs[:,:,0]], axis=2)).reshape(18828,1),\n",
    "\n",
    "    43828,\n",
    "    25000\n",
    ")\n",
    "roc"
   ]
  },
  {
   "cell_type": "code",
   "execution_count": null,
   "metadata": {},
   "outputs": [],
   "source": [
    "ac"
   ]
  },
  {
   "cell_type": "markdown",
   "metadata": {},
   "source": [
    "### Bayes by backprop"
   ]
  },
  {
   "cell_type": "code",
   "execution_count": null,
   "metadata": {
    "scrolled": true
   },
   "outputs": [],
   "source": [
    "bbp, optimizer, loss_function = create_model(\n",
    "    BBPMovie,\n",
    "    loss_function=torch.nn.BCEWithLogitsLoss,\n",
    "    optimizer=lambda x: optim.RMSprop(x, lr=0.0005)\n",
    ")\n",
    "\n",
    "perform_training_sentiment(\n",
    "    60,\n",
    "    bbp,\n",
    "    train_matrix,\n",
    "    test_matrix,\n",
    "    labels,\n",
    "    optimizer,\n",
    "    loss_function,\n",
    "    100,\n",
    "    'models/sentiment/bbp.torch',\n",
    "    100\n",
    ")\n",
    "\n",
    "# standard = load_model(Movie, 'models/sentiment/standard.torch')"
   ]
  },
  {
   "cell_type": "code",
   "execution_count": null,
   "metadata": {},
   "outputs": [],
   "source": [
    "test_labels, test_preds = test_eval_variational(\n",
    "    bbp,\n",
    "    generator_out_of_matrix(test_matrix, labels, 100, shuffle=False),\n",
    "    10,\n",
    "    sentiment=True\n",
    ")"
   ]
  },
  {
   "cell_type": "code",
   "execution_count": null,
   "metadata": {},
   "outputs": [],
   "source": [
    "accuracy_score(test_labels, np.mean(test_preds, axis=0) > 0.5)"
   ]
  },
  {
   "cell_type": "code",
   "execution_count": null,
   "metadata": {},
   "outputs": [],
   "source": [
    "log_loss(test_labels, np.mean(test_preds, axis=0), eps=1e-7)"
   ]
  },
  {
   "cell_type": "markdown",
   "metadata": {},
   "source": [
    "### Second experiment"
   ]
  },
  {
   "cell_type": "code",
   "execution_count": null,
   "metadata": {},
   "outputs": [],
   "source": [
    "roc, ac, fpr, tpr, pr, re = correlation_test_error_uncertainty_variational(\n",
    "    predictive_entropy,\n",
    "    test_preds,\n",
    "    test_labels\n",
    ")"
   ]
  },
  {
   "cell_type": "code",
   "execution_count": null,
   "metadata": {},
   "outputs": [],
   "source": [
    "roc"
   ]
  },
  {
   "cell_type": "code",
   "execution_count": null,
   "metadata": {},
   "outputs": [],
   "source": [
    "ac"
   ]
  },
  {
   "cell_type": "markdown",
   "metadata": {},
   "source": [
    "### Third experiment"
   ]
  },
  {
   "cell_type": "code",
   "execution_count": null,
   "metadata": {},
   "outputs": [],
   "source": [
    "crd_matrix = np.load(open('./nonmovies/crd_e.npy', \"rb\"))\n",
    "rp_matrix = np.load(open('./nonmovies/rp_e.npy', \"rb\"))\n",
    "rp_labels, rp_probs = test_eval_variational(\n",
    "    bbp,\n",
    "    generator_out_of_matrix(rp_matrix, np.zeros(rp_matrix.shape[0], dtype=np.int), 100, shuffle=False),\n",
    "    10,\n",
    "    sentiment=True\n",
    ")\n",
    "rp_labels = np.zeros(2000, dtype=np.int)\n",
    "rp_labels[:1000] = 1\n",
    "accuracy_score(rp_labels, np.mean(rp_probs,axis=0) > 0.5)"
   ]
  },
  {
   "cell_type": "code",
   "execution_count": null,
   "metadata": {},
   "outputs": [],
   "source": [
    "log_loss(rp_labels, np.mean(rp_probs,axis=0), eps=1e-7)"
   ]
  },
  {
   "cell_type": "code",
   "execution_count": null,
   "metadata": {},
   "outputs": [],
   "source": [
    "crd_labels, crd_preds = test_eval_variational(\n",
    "    bbp,\n",
    "    generator_out_of_matrix(crd_matrix, np.zeros(crd_matrix.shape[0], dtype=np.int), 100, shuffle=False),\n",
    "    10,\n",
    "    sentiment=True\n",
    ")\n",
    "roc, ac, fpr, tpr, pr, re = non_distribution(\n",
    "    None,\n",
    "    predictive_entropy(np.stack([1-test_preds[:,:,0], test_preds[:,:,0]], axis=2)).reshape(25000,1),    \n",
    "    predictive_entropy(np.stack([1-crd_preds[:,:,0], crd_preds[:,:,0]], axis=2)).reshape(314,1),\n",
    "    25314,\n",
    "    25000\n",
    ")\n",
    "roc"
   ]
  },
  {
   "cell_type": "code",
   "execution_count": null,
   "metadata": {},
   "outputs": [],
   "source": [
    "ac"
   ]
  },
  {
   "cell_type": "code",
   "execution_count": null,
   "metadata": {},
   "outputs": [],
   "source": [
    "reuters_matrix = np.load(open('./nonmovies/reuters_e.npy', \"rb\"))\n",
    "news_matrix = np.load(open('./nonmovies/news_e.npy', \"rb\"))\n",
    "reuters_labels, reuters_preds = test_eval_variational(\n",
    "    bbp,\n",
    "    generator_out_of_matrix(reuters_matrix, np.zeros(reuters_matrix.shape[0], dtype=np.int), 100, shuffle=False),\n",
    "    10,\n",
    "    sentiment=True\n",
    ")\n",
    "\n",
    "\n",
    "roc, ac, fpr, tpr, pr, re = non_distribution(\n",
    "    None,\n",
    "    predictive_entropy(np.stack([1-test_preds[:,:,0], test_preds[:,:,0]], axis=2)).reshape(25000,1),\n",
    "    predictive_entropy(np.stack([1-reuters_preds[:,:,0], reuters_preds[:,:,0]], axis=2)).reshape(21578,1),\n",
    "    46578,\n",
    "    25000\n",
    ")\n",
    "roc"
   ]
  },
  {
   "cell_type": "code",
   "execution_count": null,
   "metadata": {},
   "outputs": [],
   "source": [
    "ac"
   ]
  },
  {
   "cell_type": "code",
   "execution_count": null,
   "metadata": {},
   "outputs": [],
   "source": [
    "news_labels, news_preds = test_eval_variational(\n",
    "    bbp,\n",
    "    generator_out_of_matrix(news_matrix, np.zeros(news_matrix.shape[0], dtype=np.int), 100, shuffle=False),\n",
    "    10,\n",
    "    sentiment=True\n",
    ")\n",
    "roc, ac, fpr, tpr, pr, re = non_distribution(\n",
    "    None,\n",
    "    predictive_entropy(np.stack([1-test_preds[:,:,0], test_preds[:,:,0]], axis=2)).reshape(25000,1),\n",
    "    predictive_entropy(np.stack([1-news_preds[:,:,0], news_preds[:,:,0]], axis=2)).reshape(18828,1),\n",
    "    43828,\n",
    "    25000\n",
    ")\n",
    "roc"
   ]
  },
  {
   "cell_type": "code",
   "execution_count": null,
   "metadata": {},
   "outputs": [],
   "source": [
    "ac"
   ]
  },
  {
   "cell_type": "markdown",
   "metadata": {},
   "source": [
    "# Standard modified"
   ]
  },
  {
   "cell_type": "code",
   "execution_count": null,
   "metadata": {},
   "outputs": [],
   "source": [
    "standard, optimizer, loss_function = create_model(\n",
    "    Movie,\n",
    "    loss_function=torch.nn.BCEWithLogitsLoss,\n",
    "    optimizer=lambda x: optim.RMSprop(x, lr=0.0005)\n",
    ")\n",
    "\n",
    "def is_loss(model):\n",
    "    \n",
    "    return (\n",
    "        lambda pred,y: loss_function(pred,y)\n",
    "        + 0.01 * (model.dense.weight.data ** 2).sum()\n",
    "        + 0.000001 * pred.sum()\n",
    "    )\n",
    "\n",
    "# perform_training_sentiment(\n",
    "#     60,\n",
    "#     standard,\n",
    "#     train_matrix,\n",
    "#     test_matrix,\n",
    "#     labels,\n",
    "#     optimizer,\n",
    "#     is_loss(standard),\n",
    "#     100,\n",
    "#     'models/sentiment/standard_mod.torch',\n",
    "#     100\n",
    "# )\n",
    "\n",
    "standard = load_model(Movie, 'models/sentiment/standard.torch')"
   ]
  },
  {
   "cell_type": "markdown",
   "metadata": {},
   "source": [
    "### experiment 1"
   ]
  },
  {
   "cell_type": "code",
   "execution_count": null,
   "metadata": {},
   "outputs": [],
   "source": [
    "test_preds, test_labels, test_probs = test_eval(\n",
    "    standard,\n",
    "    generator_out_of_matrix(test_matrix, labels, 100, shuffle=False),\n",
    "    sentiment=True\n",
    ")\n",
    "print(accuracy_score(labels, test_probs > 0))\n",
    "\n",
    "print(log_loss(labels, test_preds, eps=1e-7))"
   ]
  },
  {
   "cell_type": "markdown",
   "metadata": {},
   "source": [
    "### experiment 2"
   ]
  },
  {
   "cell_type": "code",
   "execution_count": null,
   "metadata": {},
   "outputs": [],
   "source": [
    "\n",
    "\n",
    "roc, ac, fpr, tpr, pr, re = correlation_test_error_uncertainty(\n",
    "    lambda x: 1-np.abs(x-0.5),\n",
    "    test_preds,\n",
    "    test_labels,\n",
    "    num_classes=2\n",
    ")\n",
    "print(roc)\n",
    "print(ac)"
   ]
  },
  {
   "cell_type": "markdown",
   "metadata": {},
   "source": [
    "### experiment 3"
   ]
  },
  {
   "cell_type": "code",
   "execution_count": null,
   "metadata": {},
   "outputs": [],
   "source": [
    "\n",
    "crd_matrix = np.load(open('./nonmovies/crd_e.npy', \"rb\"))\n",
    "rp_matrix = np.load(open('./nonmovies/rp_e.npy', \"rb\"))\n",
    "rp_preds, rp_labels, rp_probs = test_eval(\n",
    "    standard,\n",
    "    generator_out_of_matrix(rp_matrix, np.zeros(rp_matrix.shape[0], dtype=np.int), 100, shuffle=False),\n",
    "    sentiment=True\n",
    ")\n",
    "rp_labels = np.zeros(2000, dtype=np.int)\n",
    "rp_labels[:1000] = 1\n",
    "print(accuracy_score(rp_labels, rp_preds > 0.5))\n",
    "print(log_loss(rp_labels, rp_preds, eps=1e-7))"
   ]
  },
  {
   "cell_type": "code",
   "execution_count": null,
   "metadata": {},
   "outputs": [],
   "source": [
    "crd_preds, crd_labels, crd_probs = test_eval(\n",
    "    standard,\n",
    "    generator_out_of_matrix(crd_matrix, np.zeros(crd_matrix.shape[0], dtype=np.int), 100, shuffle=False),\n",
    "    sentiment=True\n",
    ")\n",
    "roc, ac, fpr, tpr, pr, re = non_distribution(\n",
    "    test_probs,\n",
    "    -np.abs(0.5-test_preds),\n",
    "    -np.abs(0.5-crd_preds),\n",
    "    25314,\n",
    "    25000\n",
    ")\n",
    "print(roc)\n",
    "print(ac)"
   ]
  },
  {
   "cell_type": "code",
   "execution_count": null,
   "metadata": {},
   "outputs": [],
   "source": [
    "reuters_matrix = np.load(open('./nonmovies/reuters_e.npy', \"rb\"))\n",
    "news_matrix = np.load(open('./nonmovies/news_e.npy', \"rb\"))\n",
    "reuters_preds, reuters_labels, reuters_probs = test_eval(\n",
    "    standard,\n",
    "    generator_out_of_matrix(reuters_matrix, np.zeros(reuters_matrix.shape[0], dtype=np.int), 100, shuffle=False),\n",
    "    sentiment=True\n",
    ")\n",
    "roc, ac, fpr, tpr, pr, re = non_distribution(\n",
    "    test_probs,\n",
    "    -np.abs(0.5-test_preds),\n",
    "    -np.abs(0.5-reuters_preds),\n",
    "    46578,\n",
    "    25000\n",
    ")\n",
    "print(roc)\n",
    "print(ac)"
   ]
  },
  {
   "cell_type": "code",
   "execution_count": null,
   "metadata": {},
   "outputs": [],
   "source": [
    "news_preds, news_labels, news_probs = test_eval(\n",
    "    standard,\n",
    "    generator_out_of_matrix(news_matrix, np.zeros(news_matrix.shape[0], dtype=np.int), 100, shuffle=False),\n",
    "    sentiment=True\n",
    ")\n",
    "roc, ac, fpr, tpr, pr, re = non_distribution(\n",
    "    test_probs,\n",
    "    -np.abs(0.5-test_preds),\n",
    "    -np.abs(0.5-news_preds),\n",
    "    43828,\n",
    "    25000\n",
    ")\n",
    "print(roc)\n",
    "print(ac)"
   ]
  },
  {
   "cell_type": "code",
   "execution_count": null,
   "metadata": {},
   "outputs": [],
   "source": []
  }
 ],
 "metadata": {
  "kernelspec": {
   "display_name": "Python 3",
   "language": "python",
   "name": "python3"
  },
  "language_info": {
   "codemirror_mode": {
    "name": "ipython",
    "version": 3
   },
   "file_extension": ".py",
   "mimetype": "text/x-python",
   "name": "python",
   "nbconvert_exporter": "python",
   "pygments_lexer": "ipython3",
   "version": "3.6.6"
  }
 },
 "nbformat": 4,
 "nbformat_minor": 2
}
