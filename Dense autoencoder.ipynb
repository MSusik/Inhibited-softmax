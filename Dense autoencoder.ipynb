{
 "cells": [
  {
   "cell_type": "code",
   "execution_count": null,
   "metadata": {},
   "outputs": [],
   "source": [
    "import numpy as np\n",
    "import torch\n",
    "from torch import optim\n",
    "from torch.autograd import Variable\n",
    "\n",
    "from models_code.vae import create_latent_space_results_is\n",
    "from models_code.vae import create_latent_space_results_mc\n",
    "from models_code.vae import plot_latent_space\n",
    "from models_code.vae import show_decoded_latent_space\n",
    "from models_code.vae import show_decoder_quality\n",
    "from models_code.vae import test_autoencoder\n",
    "from models_code.vae import train_autoencoder\n",
    "from models_code.vae import VAE\n",
    "from models_code.mnist import load_data"
   ]
  },
  {
   "cell_type": "code",
   "execution_count": null,
   "metadata": {},
   "outputs": [],
   "source": [
    "\n",
    "batch_size = 128\n",
    "log_interval = 100\n",
    "epochs = 50\n",
    "\n",
    "torch.manual_seed(9)\n",
    "torch.cuda.manual_seed(9)\n",
    "\n",
    "\n",
    "kwargs = {'num_workers': 1, 'pin_memory': True}\n",
    "train_loader, test_loader = load_data(batch_size)\n",
    "\n",
    "model = VAE()\n",
    "model.cuda()\n",
    "optimizer = optim.Adam(model.parameters())\n"
   ]
  },
  {
   "cell_type": "code",
   "execution_count": null,
   "metadata": {},
   "outputs": [],
   "source": [
    "\n",
    "model.load_state_dict(torch.load('models/vae.torch'))\n",
    "\n",
    "# for epoch in range(1, epochs + 1):\n",
    "#     train_autoencoder(epoch, train_loader, log_interval, model, optimizer)\n",
    "#     test_autoencoder(test_loader, model)\n",
    "    \n",
    "# torch.save(model.state_dict(), 'models/vae.torch')\n"
   ]
  },
  {
   "cell_type": "markdown",
   "metadata": {},
   "source": [
    "# Check examples"
   ]
  },
  {
   "cell_type": "markdown",
   "metadata": {},
   "source": [
    "### This visualization will show that the autoencoder works, and the decoded images resemble the original"
   ]
  },
  {
   "cell_type": "code",
   "execution_count": null,
   "metadata": {},
   "outputs": [],
   "source": [
    "_, (exs, _) = next(enumerate(test_loader))\n",
    "mini_batch = exs[:25,:]\n",
    "\n",
    "show_decoder_quality(mini_batch, model)"
   ]
  },
  {
   "cell_type": "markdown",
   "metadata": {},
   "source": [
    "# First plot"
   ]
  },
  {
   "cell_type": "markdown",
   "metadata": {},
   "source": [
    "### Firstly, create meshgrid and compute metrics"
   ]
  },
  {
   "cell_type": "code",
   "execution_count": null,
   "metadata": {},
   "outputs": [],
   "source": [
    "from models_code.utilities import load_model\n",
    "from models_code.mnist import MCMnist\n",
    "from models_code.mnist import ISMnist\n",
    "import math"
   ]
  },
  {
   "cell_type": "code",
   "execution_count": null,
   "metadata": {},
   "outputs": [],
   "source": [
    "modelmc = load_model(MCMnist, 'models/mnist_lenet/mc.torch')\n",
    "modelis = load_model(ISMnist, 'models/mnist_lenet/is.torch')"
   ]
  },
  {
   "cell_type": "code",
   "execution_count": null,
   "metadata": {},
   "outputs": [],
   "source": [
    "p_ents, e_ents, m_info, latent_X, latent_Y, decoded_imgs = create_latent_space_results_mc(-10, 10, modelmc, model)"
   ]
  },
  {
   "cell_type": "code",
   "execution_count": null,
   "metadata": {},
   "outputs": [],
   "source": [
    "is_conv_confidence, latent_X, latent_Y, decoded_imgs = create_latent_space_results_is(-10, 10, modelis, model)"
   ]
  },
  {
   "cell_type": "markdown",
   "metadata": {},
   "source": [
    "### Then, create plots"
   ]
  },
  {
   "cell_type": "code",
   "execution_count": null,
   "metadata": {},
   "outputs": [],
   "source": [
    "# Inference for all training examples\n",
    "\n",
    "xses = []\n",
    "logvars = []\n",
    "yses = []\n",
    "images = []\n",
    "\n",
    "for batch_idx, (data, ys) in enumerate(train_loader):\n",
    "    model.eval()\n",
    "    data = Variable(data)\n",
    "    data = data.cuda()\n",
    "    recon_batch, mu, logvar = model(data)\n",
    "\n",
    "    xses.append(mu.cpu().data.numpy())\n",
    "    yses.append(Variable(ys).cpu().data.numpy())\n",
    "    logvars.append(logvar.cpu().data.numpy())\n",
    "    \n",
    "xses = np.concatenate(xses)\n",
    "yses = np.concatenate(yses)\n"
   ]
  },
  {
   "cell_type": "code",
   "execution_count": null,
   "metadata": {},
   "outputs": [],
   "source": [
    "import matplotlib\n",
    "matplotlib.rcParams.update({'font.size': 40})\n",
    "\n",
    "from matplotlib import rc\n",
    "#rc('font',**{'family':'sans-serif','sans-serif':['Helvetica']})\n",
    "## for Palatino and other serif fonts use:\n",
    "rc('font',**{'family':'serif','serif':['Palatino']})\n",
    "rc('text', usetex=True)"
   ]
  },
  {
   "cell_type": "code",
   "execution_count": null,
   "metadata": {},
   "outputs": [],
   "source": [
    "from sklearn.calibration import CalibratedClassifierCV\n",
    "from matplotlib import pyplot as plt"
   ]
  },
  {
   "cell_type": "code",
   "execution_count": null,
   "metadata": {},
   "outputs": [],
   "source": [
    "cccv = CalibratedClassifierCV(cv='prefit')"
   ]
  },
  {
   "cell_type": "code",
   "execution_count": null,
   "metadata": {},
   "outputs": [],
   "source": [
    "def calibrate(array2d):\n",
    "    '''Changes the probability density of latent space certainities into uniform'''\n",
    "    thresholds = np.sort(array2d.flatten())[::100]\n",
    "    return np.digitize(array2d, thresholds)"
   ]
  },
  {
   "cell_type": "code",
   "execution_count": null,
   "metadata": {},
   "outputs": [],
   "source": [
    "# p_ents = calibrate(p_ents)\n",
    "is_conv_confidence = calibrate(is_conv_confidence)"
   ]
  },
  {
   "cell_type": "code",
   "execution_count": null,
   "metadata": {},
   "outputs": [],
   "source": [
    "plot_latent_space(\n",
    "    latent_X,\n",
    "    latent_Y,\n",
    "    is_conv_confidence,\n",
    "    xses,\n",
    "    yses,\n",
    "    \"\",\n",
    "    norm=None,\n",
    "    savepath='images/vae_is.png'\n",
    ")"
   ]
  },
  {
   "cell_type": "code",
   "execution_count": null,
   "metadata": {},
   "outputs": [],
   "source": [
    "\n",
    "plot_latent_space(\n",
    "    latent_X[60:140, 60:140],\n",
    "    latent_Y[60:140, 60:140],\n",
    "    is_conv_confidence[60:140, 60:140],\n",
    "    xses[(np.abs(xses[:,0]) < 4) & (np.abs(xses[:,1]) < 4)],\n",
    "    yses[(np.abs(xses[:,0]) < 4) & (np.abs(xses[:,1]) < 4)],\n",
    "    \"\",\n",
    "    norm=None,\n",
    "    savepath='images/vae_is_small.png'\n",
    ")"
   ]
  },
  {
   "cell_type": "markdown",
   "metadata": {},
   "source": [
    "# Plots for MC Dropout"
   ]
  },
  {
   "cell_type": "code",
   "execution_count": null,
   "metadata": {},
   "outputs": [],
   "source": [
    "plot_latent_space(\n",
    "    latent_X,\n",
    "    latent_Y,\n",
    "    p_ents,\n",
    "    xses,\n",
    "    yses,\n",
    "    \"\",\n",
    "    norm=None,\n",
    "    savepath='images/vae_mc.png'\n",
    ")"
   ]
  },
  {
   "cell_type": "code",
   "execution_count": null,
   "metadata": {},
   "outputs": [],
   "source": [
    "plot_latent_space(\n",
    "    latent_X[60:140, 60:140],\n",
    "    latent_Y[60:140, 60:140],\n",
    "    p_ents[60:140, 60:140],\n",
    "    xses[(np.abs(xses[:,0]) < 4) & (np.abs(xses[:,1]) < 4)],\n",
    "    yses[(np.abs(xses[:,0]) < 4) & (np.abs(xses[:,1]) < 4)],\n",
    "    \"\",\n",
    "    norm=None,\n",
    "    savepath='images/vae_mc_small.png'\n",
    ")"
   ]
  },
  {
   "cell_type": "markdown",
   "metadata": {},
   "source": [
    "# Show what latent space represents"
   ]
  },
  {
   "cell_type": "code",
   "execution_count": null,
   "metadata": {},
   "outputs": [],
   "source": [
    "show_decoded_latent_space(model)"
   ]
  },
  {
   "cell_type": "code",
   "execution_count": null,
   "metadata": {},
   "outputs": [],
   "source": []
  }
 ],
 "metadata": {
  "kernelspec": {
   "display_name": "Python 3",
   "language": "python",
   "name": "python3"
  },
  "language_info": {
   "codemirror_mode": {
    "name": "ipython",
    "version": 3
   },
   "file_extension": ".py",
   "mimetype": "text/x-python",
   "name": "python",
   "nbconvert_exporter": "python",
   "pygments_lexer": "ipython3",
   "version": "3.7.1"
  }
 },
 "nbformat": 4,
 "nbformat_minor": 2
}
