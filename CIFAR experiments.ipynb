{
 "cells": [
  {
   "cell_type": "code",
   "execution_count": null,
   "metadata": {},
   "outputs": [],
   "source": [
    "from models_code.utilities import create_model\n",
    "from models_code.utilities import dump_results\n",
    "\n",
    "from models_code.experiments import correlation_test_error_uncertainty\n",
    "from models_code.experiments import load_lfw\n",
    "from models_code.experiments import not_mnist_predictions\n",
    "from models_code.experiments import non_distribution\n",
    "from models_code.experiments import test_eval\n",
    "from models_code.experiments import softmax2d\n",
    "\n",
    "from models_code.mnist import perform_training\n",
    "\n",
    "from models_code.cifar import load_data\n",
    "from models_code.cifar import load_svhn\n",
    "from models_code.cifar import ISCifar\n",
    "\n",
    "from models_code.utilities import load_model\n",
    "\n",
    "from utilities.metric import entropy\n",
    "\n",
    "import torch\n",
    "\n",
    "import numpy as np\n",
    "\n",
    "from sklearn.metrics import accuracy_score\n",
    "from sklearn.metrics import log_loss"
   ]
  },
  {
   "cell_type": "code",
   "execution_count": null,
   "metadata": {},
   "outputs": [],
   "source": [
    "def set_same_seed():\n",
    "    torch.manual_seed(9)\n",
    "    torch.cuda.manual_seed(9)"
   ]
  },
  {
   "cell_type": "code",
   "execution_count": null,
   "metadata": {},
   "outputs": [],
   "source": [
    "batch_size = 64\n",
    "log_interval = 100\n",
    "epochs = 100"
   ]
  },
  {
   "cell_type": "markdown",
   "metadata": {},
   "source": [
    "# Inhibited softmax"
   ]
  },
  {
   "cell_type": "code",
   "execution_count": null,
   "metadata": {},
   "outputs": [],
   "source": [
    "set_same_seed()\n",
    "train_loader, test_loader = load_data(batch_size)"
   ]
  },
  {
   "cell_type": "code",
   "execution_count": null,
   "metadata": {},
   "outputs": [],
   "source": [
    "is_, optimizer, cross_entropy  = create_model(ISCifar)\n",
    "\n",
    "def is_loss(model):\n",
    "    \n",
    "    return (\n",
    "        lambda pred,aft_cauchy,y: cross_entropy(pred,y)\n",
    "        - 0.000001 * aft_cauchy.sum()\n",
    "    )\n",
    "    \n",
    "perform_training(\n",
    "    epochs,\n",
    "    is_,\n",
    "    train_loader,\n",
    "    test_loader,\n",
    "    optimizer,\n",
    "    is_loss(is_),\n",
    "    log_interval,\n",
    "    './models/cifar_lenet/is2.torch',\n",
    "    60000 // batch_size + 1,\n",
    "    channels=3\n",
    ")\n",
    "\n",
    "# is_ = load_model(ISCifar, './models/cifar_lenet/is2.torch')"
   ]
  },
  {
   "cell_type": "code",
   "execution_count": null,
   "metadata": {},
   "outputs": [],
   "source": [
    "test_preds, test_labels, test_probs = test_eval(is_, test_loader, channels=3)"
   ]
  },
  {
   "cell_type": "code",
   "execution_count": null,
   "metadata": {},
   "outputs": [],
   "source": [
    "accuracy_score(test_labels, test_preds)"
   ]
  },
  {
   "cell_type": "code",
   "execution_count": null,
   "metadata": {},
   "outputs": [],
   "source": [
    "log_loss(test_labels, softmax2d(test_probs[:,:10]))"
   ]
  },
  {
   "cell_type": "markdown",
   "metadata": {},
   "source": [
    "### Second experiment"
   ]
  },
  {
   "cell_type": "code",
   "execution_count": null,
   "metadata": {},
   "outputs": [],
   "source": [
    "roc, ac, fpr, tpr, pr, re = correlation_test_error_uncertainty(\n",
    "    lambda x: softmax2d(x)[:,10],\n",
    "    test_probs,\n",
    "    test_labels\n",
    ")"
   ]
  },
  {
   "cell_type": "code",
   "execution_count": null,
   "metadata": {},
   "outputs": [],
   "source": [
    "roc"
   ]
  },
  {
   "cell_type": "code",
   "execution_count": null,
   "metadata": {},
   "outputs": [],
   "source": [
    "ac"
   ]
  },
  {
   "cell_type": "code",
   "execution_count": null,
   "metadata": {},
   "outputs": [],
   "source": [
    "dump_results(fpr, tpr, pr, re, './results/mnist/is.pickle')"
   ]
  },
  {
   "cell_type": "markdown",
   "metadata": {},
   "source": [
    "### Third experiment"
   ]
  },
  {
   "cell_type": "code",
   "execution_count": null,
   "metadata": {},
   "outputs": [],
   "source": [
    "svhn_loader = load_svhn(batch_size)"
   ]
  },
  {
   "cell_type": "code",
   "execution_count": null,
   "metadata": {},
   "outputs": [],
   "source": [
    "svhn_preds, svhn_labels, svhn_probs = test_eval(is_, svhn_loader, channels=3)"
   ]
  },
  {
   "cell_type": "code",
   "execution_count": null,
   "metadata": {},
   "outputs": [],
   "source": [
    "roc, ac, fpr, tpr, pr, re = non_distribution(\n",
    "    test_probs,\n",
    "    softmax2d(test_probs)[:,10].reshape(10000,1),\n",
    "    softmax2d(svhn_probs)[:,10].reshape(73257,1),\n",
    "    83257,\n",
    "    10000\n",
    ")"
   ]
  },
  {
   "cell_type": "code",
   "execution_count": null,
   "metadata": {},
   "outputs": [],
   "source": [
    "roc"
   ]
  },
  {
   "cell_type": "code",
   "execution_count": null,
   "metadata": {},
   "outputs": [],
   "source": [
    "ac"
   ]
  },
  {
   "cell_type": "code",
   "execution_count": null,
   "metadata": {},
   "outputs": [],
   "source": [
    "dump_results(fpr, tpr, pr, re, './results/notmnist/is.pickle')"
   ]
  },
  {
   "cell_type": "markdown",
   "metadata": {},
   "source": [
    "### LFW-a"
   ]
  },
  {
   "cell_type": "code",
   "execution_count": null,
   "metadata": {},
   "outputs": [],
   "source": [
    "lfw_loader = load_lfw(batch_size)"
   ]
  },
  {
   "cell_type": "code",
   "execution_count": null,
   "metadata": {},
   "outputs": [],
   "source": [
    "lfw_preds, lfw_labels, lfw_probs = test_eval(is_, lfw_loader, channels=3)"
   ]
  },
  {
   "cell_type": "code",
   "execution_count": null,
   "metadata": {},
   "outputs": [],
   "source": [
    "roc, ac, fpr, tpr, pr, re = non_distribution(\n",
    "    test_probs,\n",
    "    softmax2d(test_probs)[:,10].reshape(10000,1),\n",
    "    softmax2d(lfw_probs)[:,10].reshape(1054,1),\n",
    "    11054,\n",
    "    10000\n",
    ")\n"
   ]
  },
  {
   "cell_type": "code",
   "execution_count": null,
   "metadata": {},
   "outputs": [],
   "source": [
    "roc"
   ]
  },
  {
   "cell_type": "code",
   "execution_count": null,
   "metadata": {},
   "outputs": [],
   "source": [
    "ac"
   ]
  }
 ],
 "metadata": {
  "kernelspec": {
   "display_name": "Python 3",
   "language": "python",
   "name": "python3"
  },
  "language_info": {
   "codemirror_mode": {
    "name": "ipython",
    "version": 3
   },
   "file_extension": ".py",
   "mimetype": "text/x-python",
   "name": "python",
   "nbconvert_exporter": "python",
   "pygments_lexer": "ipython3",
   "version": "3.7.1"
  }
 },
 "nbformat": 4,
 "nbformat_minor": 2
}
